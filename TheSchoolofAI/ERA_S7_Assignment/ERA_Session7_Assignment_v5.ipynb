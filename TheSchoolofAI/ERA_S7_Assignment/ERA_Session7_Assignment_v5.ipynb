{
  "nbformat": 4,
  "nbformat_minor": 0,
  "metadata": {
    "colab": {
      "provenance": [],
      "gpuType": "T4"
    },
    "kernelspec": {
      "name": "python3",
      "display_name": "Python 3"
    },
    "accelerator": "GPU"
  },
  "cells": [
    {
      "cell_type": "code",
      "source": [
        "from google.colab import drive\n",
        "drive.mount('/content/drive')"
      ],
      "metadata": {
        "colab": {
          "base_uri": "https://localhost:8080/"
        },
        "id": "LuJZttvN9yev",
        "outputId": "316ef87e-5c49-4f03-f8e7-24d0571c8980"
      },
      "execution_count": 2,
      "outputs": [
        {
          "output_type": "stream",
          "name": "stdout",
          "text": [
            "Drive already mounted at /content/drive; to attempt to forcibly remount, call drive.mount(\"/content/drive\", force_remount=True).\n"
          ]
        }
      ]
    },
    {
      "cell_type": "code",
      "metadata": {
        "id": "0m2JWFliFfKT"
      },
      "source": [
        "from __future__ import print_function\n",
        "import torch\n",
        "import torch.nn as nn\n",
        "import torch.nn.functional as F\n",
        "import torch.optim as optim\n",
        "from torchvision import datasets, transforms"
      ],
      "execution_count": 3,
      "outputs": []
    },
    {
      "cell_type": "code",
      "source": [
        "# !cp /content/drive/MyDrive/The\\ School\\ of\\ AI/Session\\ 6\\ Assignment/model.py /content\n",
        "# !cp /content/drive/MyDrive/The\\ School\\ of\\ AI/Session\\ 6\\ Assignment/utils.py /content"
      ],
      "metadata": {
        "id": "AeviZ6IOWbrf"
      },
      "execution_count": 4,
      "outputs": []
    },
    {
      "cell_type": "code",
      "source": [
        "# import model\n",
        "# import utils\n",
        "# from model import Net\n",
        "# from utils import *"
      ],
      "metadata": {
        "id": "aOg_zdSGcobB"
      },
      "execution_count": 5,
      "outputs": []
    },
    {
      "cell_type": "code",
      "source": [
        "# Train data transformations\n",
        "train_transforms = transforms.Compose([\n",
        "    #transforms.RandomApply([transforms.CenterCrop(22), ], p=0.1),\n",
        "    transforms.Resize((28, 28)),\n",
        "    transforms.RandomRotation((-15., 15.), fill=0),\n",
        "    transforms.ToTensor(),\n",
        "    transforms.Normalize((0.1307,), (0.3081,)),\n",
        "    ])\n",
        "\n",
        "# Test data transformations\n",
        "test_transforms = transforms.Compose([\n",
        "    transforms.ToTensor(),\n",
        "    #transforms.Normalize((0.1407,), (0.4081,)) --> This is incorrect line and hence commented\n",
        "    transforms.Normalize((0.1307,), (0.3081,))\n",
        "    ])"
      ],
      "metadata": {
        "id": "9oH9x0ry_cj8"
      },
      "execution_count": 6,
      "outputs": []
    },
    {
      "cell_type": "code",
      "source": [
        "train_data = datasets.MNIST('../data', train=True, download=True, transform=train_transforms)\n",
        "#test_data = datasets.MNIST('../data', train=True, download=True, transform=train_transforms) --> Commented the incorrect line. train = False and test_transform needs to be passed\n",
        "test_data = datasets.MNIST('../data', train=False, download=True, transform=test_transforms)"
      ],
      "metadata": {
        "id": "ZqDBxf1-_gun"
      },
      "execution_count": 7,
      "outputs": []
    },
    {
      "cell_type": "code",
      "source": [
        "type(train_data), len(train_data), len(train_data[0]), train_data.data.shape, test_data.data.shape"
      ],
      "metadata": {
        "colab": {
          "base_uri": "https://localhost:8080/"
        },
        "id": "yC7eEdPS_vt2",
        "outputId": "40fe3a4e-1d19-4dac-f778-d79cde7d4f6f"
      },
      "execution_count": 8,
      "outputs": [
        {
          "output_type": "execute_result",
          "data": {
            "text/plain": [
              "(torchvision.datasets.mnist.MNIST,\n",
              " 60000,\n",
              " 2,\n",
              " torch.Size([60000, 28, 28]),\n",
              " torch.Size([10000, 28, 28]))"
            ]
          },
          "metadata": {},
          "execution_count": 8
        }
      ]
    },
    {
      "cell_type": "code",
      "source": [
        "batch_size = 128\n",
        "\n",
        "#kwargs = {'batch_size': batch_size, 'shuffle': False, 'num_workers': 2, 'pin_memory': True} --> Commented the incorrect line. shuffle parameter needs to be True\n",
        "kwargs = {'batch_size': batch_size, 'shuffle': True, 'num_workers': 2, 'pin_memory': True}\n",
        "\n",
        "#test_loader = torch.utils.data.DataLoader(train_data, **kwargs) --> Commented the incorrect line. test_data needs be passed for test_loader\n",
        "test_loader = torch.utils.data.DataLoader(test_data, **kwargs)\n",
        "train_loader = torch.utils.data.DataLoader(train_data, **kwargs)"
      ],
      "metadata": {
        "id": "7NBg3vuq_6_n"
      },
      "execution_count": 9,
      "outputs": []
    },
    {
      "cell_type": "code",
      "source": [
        "import matplotlib.pyplot as plt\n",
        "\n",
        "batch_data, batch_label = next(iter(train_loader))\n",
        "\n",
        "fig = plt.figure()\n",
        "\n",
        "for i in range(12):\n",
        "  plt.subplot(3,4,i+1)\n",
        "  plt.tight_layout()\n",
        "  plt.imshow(batch_data[i].squeeze(0), cmap='gray')\n",
        "  plt.title(batch_label[i].item())\n",
        "  plt.xticks([])\n",
        "  plt.yticks([])"
      ],
      "metadata": {
        "colab": {
          "base_uri": "https://localhost:8080/",
          "height": 463
        },
        "id": "NRTaG2Bx__ER",
        "outputId": "f11c4adc-ae69-4b07-b1ca-f99323c33920"
      },
      "execution_count": 10,
      "outputs": [
        {
          "output_type": "display_data",
          "data": {
            "text/plain": [
              "<Figure size 640x480 with 12 Axes>"
            ],
            "image/png": "[encoded data removed]"
          },
          "metadata": {}
        }
      ]
    },
    {
      "cell_type": "code",
      "source": [
        "from tqdm import tqdm"
      ],
      "metadata": {
        "id": "fp5C7rPgA2sa"
      },
      "execution_count": 11,
      "outputs": []
    },
    {
      "cell_type": "code",
      "source": [
        "# Data to plot accuracy and loss graphs\n",
        "train_losses = []\n",
        "test_losses = []\n",
        "train_acc = []\n",
        "test_acc = []\n",
        "\n",
        "test_incorrect_pred = {'images': [], 'ground_truths': [], 'predicted_vals': []}"
      ],
      "metadata": {
        "id": "Bvv7uaWbTBqE"
      },
      "execution_count": 12,
      "outputs": []
    },
    {
      "cell_type": "code",
      "source": [
        "device = torch.device(\"cuda:0\" if torch.cuda.is_available() else \"cpu\")\n",
        "device"
      ],
      "metadata": {
        "colab": {
          "base_uri": "https://localhost:8080/"
        },
        "id": "QEOKKZQVBMBe",
        "outputId": "4caae05b-d90c-493f-900d-76514ebf8dd8"
      },
      "execution_count": 13,
      "outputs": [
        {
          "output_type": "execute_result",
          "data": {
            "text/plain": [
              "device(type='cuda', index=0)"
            ]
          },
          "metadata": {},
          "execution_count": 13
        }
      ]
    },
    {
      "cell_type": "markdown",
      "source": [
        "This was original structure in assignment 6 submission"
      ],
      "metadata": {
        "id": "s1Z0VBy4V7rJ"
      }
    },
    {
      "cell_type": "code",
      "source": [
        "# class Net(nn.Module):\n",
        "#     #This defines the structure of the NN.\n",
        "#     def __init__(self):\n",
        "#         super(Net, self).__init__()\n",
        "#         self.conv1 = nn.Sequential(\n",
        "#             nn.Conv2d(1, 128, 3, padding=1),\n",
        "#             nn.ReLU(),\n",
        "#             nn.BatchNorm2d(128),\n",
        "#             nn.Dropout(0.1)\n",
        "#         ) # 28*28*128\n",
        "\n",
        "#         self.trans1 = nn.Sequential(\n",
        "#             nn.Conv2d(128, 8, 1, padding=1),\n",
        "#             nn.ReLU(),\n",
        "#             nn.BatchNorm2d(8),\n",
        "#             nn.Dropout(0.1)\n",
        "#         ) # 30*30*8\n",
        "\n",
        "#         self.conv2 = nn.Sequential(\n",
        "#             nn.Conv2d(8, 16, 3, padding=1),\n",
        "#             nn.ReLU(),\n",
        "#             nn.BatchNorm2d(16),\n",
        "#             nn.Dropout(0.1),\n",
        "#             nn.MaxPool2d(2, 2)\n",
        "#         ) # 30*30*16 | 15*15*16\n",
        "\n",
        "#         self.conv3 = nn.Sequential(\n",
        "#             nn.Conv2d(16, 16, 3, padding=1),\n",
        "#             nn.ReLU(),\n",
        "#             nn.BatchNorm2d(16),\n",
        "#             nn.Dropout(0.1)\n",
        "#         ) # 15*15*16\n",
        "\n",
        "#         self.conv4 = nn.Sequential(\n",
        "#             nn.Conv2d(16, 32, 3, padding=1),\n",
        "#             nn.ReLU(),\n",
        "#             nn.BatchNorm2d(32),\n",
        "#             nn.Dropout(0.1),\n",
        "#             nn.MaxPool2d(2, 2)\n",
        "#         ) # 15*15*32 | 7*7*32\n",
        "\n",
        "#         self.trans2 = nn.Sequential(\n",
        "#             nn.Conv2d(32, 16, 1, padding=1)\n",
        "#         ) # 9*9*32\n",
        "\n",
        "#         self.conv5 = nn.Sequential(\n",
        "#             nn.Conv2d(16, 16, 3, padding=1),\n",
        "#             nn.ReLU(),\n",
        "#             nn.BatchNorm2d(16),\n",
        "#             nn.Dropout(0.1)\n",
        "#         ) # 9**9*16\n",
        "\n",
        "#         self.conv6 = nn.Sequential(\n",
        "#             nn.Conv2d(16, 32, 3, padding=1), # 1*1\n",
        "#             nn.ReLU(),\n",
        "#             nn.BatchNorm2d(32),\n",
        "#             nn.Dropout(0.1)\n",
        "#         ) # 9*9*32\n",
        "\n",
        "#         self.conv7 = nn.Sequential(\n",
        "#             nn.Conv2d(32, 10, 1, padding=1),\n",
        "#             nn.AvgPool2d(kernel_size=7)\n",
        "#         ) # 11*11*10 | 1*1*10\n",
        "\n",
        "#     def forward(self, x):\n",
        "#       x = self.conv1(x)\n",
        "#       #print(\"size after 1st layer: \" ,x.shape)\n",
        "#       x = self.trans1(x)\n",
        "#       x = self.conv2(x)\n",
        "#       #print(\"size after 2nd layer: \" ,x.shape)\n",
        "#       x = self.conv3(x)\n",
        "#       #print(\"size after 3rd layer: \" ,x.shape)\n",
        "#       x = self.conv4(x)\n",
        "#       x = self.trans2(x)\n",
        "#       x = self.conv5(x)\n",
        "#       x = self.conv6(x)\n",
        "#       x = self.conv7(x)\n",
        "#       #print(\"size after 4th layer: \" ,x.shape)\n",
        "#       x = x.view(x.size(0), -1)\n",
        "#       #print(\"size after flattening: \" ,x.shape)\n",
        "#       x = F.log_softmax(x, dim=1)\n",
        "#       return x"
      ],
      "metadata": {
        "id": "xG2bAeoRS5a1"
      },
      "execution_count": 14,
      "outputs": []
    },
    {
      "cell_type": "markdown",
      "source": [
        "Modifed structure below"
      ],
      "metadata": {
        "id": "AvqhdtEjWBqB"
      }
    },
    {
      "cell_type": "code",
      "source": [
        "class Net(nn.Module):\n",
        "    #This defines the structure of the NN.\n",
        "    def __init__(self):\n",
        "        super(Net, self).__init__()\n",
        "        self.conv1 = nn.Sequential(\n",
        "            nn.Conv2d(1, 8, 3, padding=0),\n",
        "            nn.ReLU(),\n",
        "            nn.BatchNorm2d(8),\n",
        "            nn.Dropout(0.1)\n",
        "        ) # 26*26*8\n",
        "\n",
        "        self.conv2 = nn.Sequential(\n",
        "            nn.Conv2d(8, 16, 3, padding=0),\n",
        "            nn.ReLU(),\n",
        "            nn.BatchNorm2d(16),\n",
        "            nn.Dropout(0.1)\n",
        "        ) # 24*24*16\n",
        "\n",
        "        self.trans1 = nn.Sequential(\n",
        "            nn.Conv2d(16, 10, 1, padding=0),\n",
        "            nn.ReLU(),\n",
        "            nn.BatchNorm2d(10),\n",
        "            nn.Dropout(0.1)\n",
        "        ) # 24*24*10\n",
        "        # increase it back to 16\n",
        "        self.conv3 = nn.Sequential(\n",
        "            nn.Conv2d(10, 16, 3, padding=0),\n",
        "            nn.ReLU(),\n",
        "            nn.BatchNorm2d(16),\n",
        "            nn.Dropout(0.1),\n",
        "            nn.MaxPool2d(2, 2)\n",
        "        ) # 22*22*16 | 11*11*16\n",
        "        #remove this\n",
        "        # self.conv4 = nn.Sequential(\n",
        "        #     nn.Conv2d(8, 16, 3, padding=0),\n",
        "        #     nn.ReLU(),\n",
        "        #     nn.BatchNorm2d(16),\n",
        "        #     nn.Dropout(0.1)\n",
        "        # ) # 9*9*16\n",
        "\n",
        "        self.conv5 = nn.Sequential(\n",
        "            nn.Conv2d(16, 16, 3, padding=0),\n",
        "            nn.ReLU(),\n",
        "            nn.BatchNorm2d(16),\n",
        "            nn.Dropout(0.1),\n",
        "            #nn.MaxPool2d(2, 2)\n",
        "        ) # 9*9*16\n",
        "\n",
        "        self.trans2 = nn.Sequential(\n",
        "            nn.Conv2d(16, 10, 1, padding=0)\n",
        "        ) # 9*9*10\n",
        "\n",
        "        self.conv6 = nn.Sequential(\n",
        "            nn.Conv2d(10, 16, 3, padding=0),\n",
        "            nn.ReLU(),\n",
        "            nn.BatchNorm2d(16),\n",
        "            nn.Dropout(0.1),\n",
        "            #nn.MaxPool2d(2, 2)\n",
        "        ) # 7*7*16\n",
        "        #remove this\n",
        "        # self.conv7 = nn.Sequential(\n",
        "        #     nn.Conv2d(16, 16, 3, padding=0), # 1*1\n",
        "        #     nn.ReLU(),\n",
        "        #     nn.BatchNorm2d(16),\n",
        "        #     nn.Dropout(0.1)\n",
        "        # ) # 3*3*16\n",
        "\n",
        "        self.conv8 = nn.Sequential(\n",
        "            nn.Conv2d(16, 10, 1, padding=0),\n",
        "            nn.AvgPool2d(kernel_size=7)\n",
        "        ) # 7*7*10 | 1*1*10\n",
        "\n",
        "    def forward(self, x):\n",
        "      x = self.conv1(x)\n",
        "      #print(\"size after 1st layer: \" ,x.shape)\n",
        "      x = self.conv2(x)\n",
        "      x = self.trans1(x)\n",
        "      x = self.conv3(x)\n",
        "      #print(\"size after 2nd layer: \" ,x.shape)\n",
        "      #x = self.conv4(x)\n",
        "      #print(\"size after 3rd layer: \" ,x.shape)\n",
        "      x = self.conv5(x)\n",
        "      x = self.trans2(x)\n",
        "      x = self.conv6(x)\n",
        "      #x = self.conv7(x)\n",
        "      x = self.conv8(x)\n",
        "      #print(\"size after 4th layer: \" ,x.shape)\n",
        "      x = x.view(x.size(0), -1)\n",
        "      #print(\"size after flattening: \" ,x.shape)\n",
        "      x = F.log_softmax(x, dim=1)\n",
        "      return x"
      ],
      "metadata": {
        "id": "YIsARWpfWBF-"
      },
      "execution_count": 15,
      "outputs": []
    },
    {
      "cell_type": "code",
      "source": [
        "def GetCorrectPredCount(pPrediction, pLabels):\n",
        "  return pPrediction.argmax(dim=1).eq(pLabels).sum().item()"
      ],
      "metadata": {
        "id": "uQwINVyITF44"
      },
      "execution_count": 16,
      "outputs": []
    },
    {
      "cell_type": "code",
      "source": [
        "def train(model, device, train_loader, optimizer, criterion):\n",
        "  model.train()\n",
        "  pbar = tqdm(train_loader)\n",
        "\n",
        "  train_loss = 0\n",
        "  correct = 0\n",
        "  processed = 0\n",
        "\n",
        "  for batch_idx, (data, target) in enumerate(pbar):\n",
        "    data, target = data.to(device), target.to(device)\n",
        "    optimizer.zero_grad()\n",
        "\n",
        "    # Predict\n",
        "    pred = model(data)\n",
        "\n",
        "    # Calculate loss\n",
        "    loss = F.nll_loss(pred, target)\n",
        "    #loss = criterion(pred, target)\n",
        "    train_loss+=loss.item()\n",
        "\n",
        "    # Backpropagation\n",
        "    loss.backward()\n",
        "    optimizer.step()\n",
        "\n",
        "    correct += GetCorrectPredCount(pred, target)\n",
        "    processed += len(data)\n",
        "\n",
        "    pbar.set_description(desc= f'Train: Loss={loss.item():0.4f} Batch_id={batch_idx} Accuracy={100*correct/processed:0.2f}')\n",
        "\n",
        "  train_acc.append(100*correct/processed)\n",
        "  train_losses.append(train_loss/len(train_loader))\n",
        "  return train_loss"
      ],
      "metadata": {
        "id": "MXbhUWgVTKcy"
      },
      "execution_count": 17,
      "outputs": []
    },
    {
      "cell_type": "code",
      "source": [
        "def test(model, device, test_loader,criterion):\n",
        "    model.eval()\n",
        "\n",
        "    test_loss = 0\n",
        "    correct = 0\n",
        "\n",
        "    with torch.no_grad():\n",
        "        for batch_idx, (data, target) in enumerate(test_loader):\n",
        "            data, target = data.to(device), target.to(device)\n",
        "\n",
        "            output = model(data)\n",
        "            test_loss += F.nll_loss(output, target, reduction='sum').item()  # sum up batch loss\n",
        "            #test_loss += criterion(output, target, reduction='sum').item()  # sum up batch loss\n",
        "            #test_loss += criterion(output, target).item()  # sum up batch loss\n",
        "\n",
        "            correct += GetCorrectPredCount(output, target)\n",
        "\n",
        "\n",
        "    test_loss /= len(test_loader.dataset)\n",
        "    test_acc.append(100. * correct / len(test_loader.dataset))\n",
        "    test_losses.append(test_loss)\n",
        "\n",
        "    print('Test set: Average loss: {:.4f}, Accuracy: {}/{} ({:.2f}%)\\n'.format(\n",
        "        test_loss, correct, len(test_loader.dataset),\n",
        "        100. * correct / len(test_loader.dataset)))"
      ],
      "metadata": {
        "id": "dyxmQ8bjTOW2"
      },
      "execution_count": 18,
      "outputs": []
    },
    {
      "cell_type": "code",
      "source": [
        "!pip install torchsummary\n",
        "from torchsummary import summary"
      ],
      "metadata": {
        "colab": {
          "base_uri": "https://localhost:8080/"
        },
        "id": "EImjS5DABN2y",
        "outputId": "52d2b9f1-64d1-4e30-9d8f-c7fc348d90f5"
      },
      "execution_count": 19,
      "outputs": [
        {
          "output_type": "stream",
          "name": "stdout",
          "text": [
            "Looking in indexes: https://pypi.org/simple, https://us-python.pkg.dev/colab-wheels/public/simple/\n",
            "Requirement already satisfied: torchsummary in /usr/local/lib/python3.10/dist-packages (1.5.1)\n"
          ]
        }
      ]
    },
    {
      "cell_type": "code",
      "source": [
        "model = Net().to(device)\n",
        "summary(model, input_size=(1, 28, 28))"
      ],
      "metadata": {
        "colab": {
          "base_uri": "https://localhost:8080/"
        },
        "id": "OysR5N4PFMDD",
        "outputId": "4d9fb144-d5df-4c59-ab83-b970e16c9826"
      },
      "execution_count": 20,
      "outputs": [
        {
          "output_type": "stream",
          "name": "stdout",
          "text": [
            "----------------------------------------------------------------\n",
            "        Layer (type)               Output Shape         Param #\n",
            "================================================================\n",
            "            Conv2d-1            [-1, 8, 26, 26]              80\n",
            "              ReLU-2            [-1, 8, 26, 26]               0\n",
            "       BatchNorm2d-3            [-1, 8, 26, 26]              16\n",
            "           Dropout-4            [-1, 8, 26, 26]               0\n",
            "            Conv2d-5           [-1, 16, 24, 24]           1,168\n",
            "              ReLU-6           [-1, 16, 24, 24]               0\n",
            "       BatchNorm2d-7           [-1, 16, 24, 24]              32\n",
            "           Dropout-8           [-1, 16, 24, 24]               0\n",
            "            Conv2d-9           [-1, 10, 24, 24]             170\n",
            "             ReLU-10           [-1, 10, 24, 24]               0\n",
            "      BatchNorm2d-11           [-1, 10, 24, 24]              20\n",
            "          Dropout-12           [-1, 10, 24, 24]               0\n",
            "           Conv2d-13           [-1, 16, 22, 22]           1,456\n",
            "             ReLU-14           [-1, 16, 22, 22]               0\n",
            "      BatchNorm2d-15           [-1, 16, 22, 22]              32\n",
            "          Dropout-16           [-1, 16, 22, 22]               0\n",
            "        MaxPool2d-17           [-1, 16, 11, 11]               0\n",
            "           Conv2d-18             [-1, 16, 9, 9]           2,320\n",
            "             ReLU-19             [-1, 16, 9, 9]               0\n",
            "      BatchNorm2d-20             [-1, 16, 9, 9]              32\n",
            "          Dropout-21             [-1, 16, 9, 9]               0\n",
            "           Conv2d-22             [-1, 10, 9, 9]             170\n",
            "           Conv2d-23             [-1, 16, 7, 7]           1,456\n",
            "             ReLU-24             [-1, 16, 7, 7]               0\n",
            "      BatchNorm2d-25             [-1, 16, 7, 7]              32\n",
            "          Dropout-26             [-1, 16, 7, 7]               0\n",
            "           Conv2d-27             [-1, 10, 7, 7]             170\n",
            "        AvgPool2d-28             [-1, 10, 1, 1]               0\n",
            "================================================================\n",
            "Total params: 7,154\n",
            "Trainable params: 7,154\n",
            "Non-trainable params: 0\n",
            "----------------------------------------------------------------\n",
            "Input size (MB): 0.00\n",
            "Forward/backward pass size (MB): 0.95\n",
            "Params size (MB): 0.03\n",
            "Estimated Total Size (MB): 0.98\n",
            "----------------------------------------------------------------\n"
          ]
        }
      ]
    },
    {
      "cell_type": "code",
      "source": [
        "import torch.optim.lr_scheduler as lrs"
      ],
      "metadata": {
        "id": "qw_Udk56hjMW"
      },
      "execution_count": 21,
      "outputs": []
    },
    {
      "cell_type": "code",
      "source": [
        "model = Net().to(device)\n",
        "#optimizer = optim.SGD(model.parameters(), lr=10.01, momentum=0.9) -- Commented the line since learning rate needs to be corrected\n",
        "#optimizer = optim.SGD(model.parameters(), lr=0.01, momentum=0.9)\n",
        "optimizer = optim.Adam(model.parameters(), lr=0.01)\n",
        "#scheduler = lrs.ReduceLROnPlateau(optimizer, 'min',patience = 3, verbose=True)\n",
        "scheduler = lrs.ReduceLROnPlateau(optimizer, 'min',patience = 2, verbose=True)\n",
        "#scheduler = optim.lr_scheduler.StepLR(optimizer, step_size=6, gamma=0.1, verbose=True)\n",
        "# New Line\n",
        "criterion = nn.CrossEntropyLoss()\n",
        "#criterion = F.nll_loss()\n",
        "num_epochs = 15\n",
        "\n",
        "for epoch in range(1, num_epochs+1):\n",
        "  print(f'Epoch {epoch}')\n",
        "  train_loss = train(model, device, train_loader, optimizer, criterion)\n",
        "  #test(model, device, train_loader) --> Removed this incorrect line. test_loader needs to be passed here\n",
        "  test(model, device, test_loader, criterion)\n",
        "  scheduler.step(train_loss)"
      ],
      "metadata": {
        "colab": {
          "base_uri": "https://localhost:8080/"
        },
        "id": "NhHIzJYwNo8h",
        "outputId": "3b36b6be-974f-4fc3-d94d-2d3675f44dc8"
      },
      "execution_count": 22,
      "outputs": [
        {
          "output_type": "stream",
          "name": "stdout",
          "text": [
            "Epoch 1\n"
          ]
        },
        {
          "output_type": "stream",
          "name": "stderr",
          "text": [
            "Train: Loss=0.1300 Batch_id=468 Accuracy=90.12: 100%|██████████| 469/469 [00:36<00:00, 12.78it/s]\n"
          ]
        },
        {
          "output_type": "stream",
          "name": "stdout",
          "text": [
            "Test set: Average loss: 0.0964, Accuracy: 9704/10000 (97.04%)\n",
            "\n",
            "Epoch 2\n"
          ]
        },
        {
          "output_type": "stream",
          "name": "stderr",
          "text": [
            "Train: Loss=0.1220 Batch_id=468 Accuracy=96.72: 100%|██████████| 469/469 [00:25<00:00, 18.72it/s]\n"
          ]
        },
        {
          "output_type": "stream",
          "name": "stdout",
          "text": [
            "Test set: Average loss: 0.0560, Accuracy: 9838/10000 (98.38%)\n",
            "\n",
            "Epoch 3\n"
          ]
        },
        {
          "output_type": "stream",
          "name": "stderr",
          "text": [
            "Train: Loss=0.0902 Batch_id=468 Accuracy=97.22: 100%|██████████| 469/469 [00:24<00:00, 19.02it/s]\n"
          ]
        },
        {
          "output_type": "stream",
          "name": "stdout",
          "text": [
            "Test set: Average loss: 0.0507, Accuracy: 9847/10000 (98.47%)\n",
            "\n",
            "Epoch 4\n"
          ]
        },
        {
          "output_type": "stream",
          "name": "stderr",
          "text": [
            "Train: Loss=0.0520 Batch_id=468 Accuracy=97.40: 100%|██████████| 469/469 [00:23<00:00, 19.93it/s]\n"
          ]
        },
        {
          "output_type": "stream",
          "name": "stdout",
          "text": [
            "Test set: Average loss: 0.0572, Accuracy: 9821/10000 (98.21%)\n",
            "\n",
            "Epoch 5\n"
          ]
        },
        {
          "output_type": "stream",
          "name": "stderr",
          "text": [
            "Train: Loss=0.0256 Batch_id=468 Accuracy=97.53: 100%|██████████| 469/469 [00:24<00:00, 18.94it/s]\n"
          ]
        },
        {
          "output_type": "stream",
          "name": "stdout",
          "text": [
            "Test set: Average loss: 0.0383, Accuracy: 9887/10000 (98.87%)\n",
            "\n",
            "Epoch 6\n"
          ]
        },
        {
          "output_type": "stream",
          "name": "stderr",
          "text": [
            "Train: Loss=0.1087 Batch_id=468 Accuracy=97.73: 100%|██████████| 469/469 [00:23<00:00, 19.90it/s]\n"
          ]
        },
        {
          "output_type": "stream",
          "name": "stdout",
          "text": [
            "Test set: Average loss: 0.0437, Accuracy: 9857/10000 (98.57%)\n",
            "\n",
            "Epoch 7\n"
          ]
        },
        {
          "output_type": "stream",
          "name": "stderr",
          "text": [
            "Train: Loss=0.0370 Batch_id=468 Accuracy=97.80: 100%|██████████| 469/469 [00:25<00:00, 18.64it/s]\n"
          ]
        },
        {
          "output_type": "stream",
          "name": "stdout",
          "text": [
            "Test set: Average loss: 0.0514, Accuracy: 9833/10000 (98.33%)\n",
            "\n",
            "Epoch 8\n"
          ]
        },
        {
          "output_type": "stream",
          "name": "stderr",
          "text": [
            "Train: Loss=0.0150 Batch_id=468 Accuracy=97.85: 100%|██████████| 469/469 [00:24<00:00, 18.80it/s]\n"
          ]
        },
        {
          "output_type": "stream",
          "name": "stdout",
          "text": [
            "Test set: Average loss: 0.0390, Accuracy: 9880/10000 (98.80%)\n",
            "\n",
            "Epoch 9\n"
          ]
        },
        {
          "output_type": "stream",
          "name": "stderr",
          "text": [
            "Train: Loss=0.0888 Batch_id=468 Accuracy=97.99: 100%|██████████| 469/469 [00:24<00:00, 18.96it/s]\n"
          ]
        },
        {
          "output_type": "stream",
          "name": "stdout",
          "text": [
            "Test set: Average loss: 0.0346, Accuracy: 9892/10000 (98.92%)\n",
            "\n",
            "Epoch 10\n"
          ]
        },
        {
          "output_type": "stream",
          "name": "stderr",
          "text": [
            "Train: Loss=0.0361 Batch_id=468 Accuracy=97.95: 100%|██████████| 469/469 [00:24<00:00, 18.96it/s]\n"
          ]
        },
        {
          "output_type": "stream",
          "name": "stdout",
          "text": [
            "Test set: Average loss: 0.0343, Accuracy: 9898/10000 (98.98%)\n",
            "\n",
            "Epoch 11\n"
          ]
        },
        {
          "output_type": "stream",
          "name": "stderr",
          "text": [
            "Train: Loss=0.0292 Batch_id=468 Accuracy=98.04: 100%|██████████| 469/469 [00:25<00:00, 18.70it/s]\n"
          ]
        },
        {
          "output_type": "stream",
          "name": "stdout",
          "text": [
            "Test set: Average loss: 0.0373, Accuracy: 9879/10000 (98.79%)\n",
            "\n",
            "Epoch 12\n"
          ]
        },
        {
          "output_type": "stream",
          "name": "stderr",
          "text": [
            "Train: Loss=0.0594 Batch_id=468 Accuracy=98.20: 100%|██████████| 469/469 [00:26<00:00, 17.96it/s]\n"
          ]
        },
        {
          "output_type": "stream",
          "name": "stdout",
          "text": [
            "Test set: Average loss: 0.0368, Accuracy: 9883/10000 (98.83%)\n",
            "\n",
            "Epoch 13\n"
          ]
        },
        {
          "output_type": "stream",
          "name": "stderr",
          "text": [
            "Train: Loss=0.0420 Batch_id=468 Accuracy=98.20: 100%|██████████| 469/469 [00:23<00:00, 20.16it/s]\n"
          ]
        },
        {
          "output_type": "stream",
          "name": "stdout",
          "text": [
            "Test set: Average loss: 0.0290, Accuracy: 9905/10000 (99.05%)\n",
            "\n",
            "Epoch 14\n"
          ]
        },
        {
          "output_type": "stream",
          "name": "stderr",
          "text": [
            "Train: Loss=0.0204 Batch_id=468 Accuracy=98.24: 100%|██████████| 469/469 [00:23<00:00, 20.26it/s]\n"
          ]
        },
        {
          "output_type": "stream",
          "name": "stdout",
          "text": [
            "Test set: Average loss: 0.0316, Accuracy: 9899/10000 (98.99%)\n",
            "\n",
            "Epoch 15\n"
          ]
        },
        {
          "output_type": "stream",
          "name": "stderr",
          "text": [
            "Train: Loss=0.0257 Batch_id=468 Accuracy=98.22: 100%|██████████| 469/469 [00:24<00:00, 19.40it/s]\n"
          ]
        },
        {
          "output_type": "stream",
          "name": "stdout",
          "text": [
            "Test set: Average loss: 0.0309, Accuracy: 9897/10000 (98.97%)\n",
            "\n"
          ]
        }
      ]
    },
    {
      "cell_type": "code",
      "source": [
        "import matplotlib.pyplot as plt"
      ],
      "metadata": {
        "id": "a9SMtOpBTVfh"
      },
      "execution_count": 23,
      "outputs": []
    },
    {
      "cell_type": "code",
      "source": [
        "fig, axs = plt.subplots(2,2,figsize=(15,10))\n",
        "axs[0, 0].plot(train_losses)\n",
        "axs[0, 0].set_title(\"Training Loss\")\n",
        "axs[1, 0].plot(train_acc)\n",
        "axs[1, 0].set_title(\"Training Accuracy\")\n",
        "axs[0, 1].plot(test_losses)\n",
        "axs[0, 1].set_title(\"Test Loss\")\n",
        "axs[1, 1].plot(test_acc)\n",
        "axs[1, 1].set_title(\"Test Accuracy\")"
      ],
      "metadata": {
        "colab": {
          "base_uri": "https://localhost:8080/",
          "height": 870
        },
        "id": "J1uh7ChKTczQ",
        "outputId": "b9008ca4-1814-4642-e6dd-b58a687097ce"
      },
      "execution_count": 24,
      "outputs": [
        {
          "output_type": "execute_result",
          "data": {
            "text/plain": [
              "Text(0.5, 1.0, 'Test Accuracy')"
            ]
          },
          "metadata": {},
          "execution_count": 24
        },
        {
          "output_type": "display_data",
          "data": {
            "text/plain": [
              "<Figure size 1500x1000 with 4 Axes>"
            ],
            "image/png": "[encoded data removed]"
          },
          "metadata": {}
        }
      ]
    },
    {
      "cell_type": "code",
      "source": [
        "# printTrainTest_LossAcc(train_losses,train_acc,test_losses,test_acc)"
      ],
      "metadata": {
        "id": "WvJrAPDRBlhJ"
      },
      "execution_count": 25,
      "outputs": []
    }
  ]
}