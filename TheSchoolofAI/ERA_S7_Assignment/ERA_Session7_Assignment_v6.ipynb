{
  "nbformat": 4,
  "nbformat_minor": 0,
  "metadata": {
    "colab": {
      "provenance": [],
      "gpuType": "T4"
    },
    "kernelspec": {
      "name": "python3",
      "display_name": "Python 3"
    },
    "accelerator": "GPU"
  },
  "cells": [
    {
      "cell_type": "code",
      "source": [
        "from google.colab import drive\n",
        "drive.mount('/content/drive')"
      ],
      "metadata": {
        "colab": {
          "base_uri": "https://localhost:8080/"
        },
        "id": "LuJZttvN9yev",
        "outputId": "edfa24eb-457b-4c6d-d4f1-278d1cb5a7dc"
      },
      "execution_count": null,
      "outputs": [
        {
          "output_type": "stream",
          "name": "stdout",
          "text": [
            "Drive already mounted at /content/drive; to attempt to forcibly remount, call drive.mount(\"/content/drive\", force_remount=True).\n"
          ]
        }
      ]
    },
    {
      "cell_type": "code",
      "metadata": {
        "id": "0m2JWFliFfKT"
      },
      "source": [
        "from __future__ import print_function\n",
        "import torch\n",
        "import torch.nn as nn\n",
        "import torch.nn.functional as F\n",
        "import torch.optim as optim\n",
        "from torchvision import datasets, transforms"
      ],
      "execution_count": null,
      "outputs": []
    },
    {
      "cell_type": "code",
      "source": [
        "# !cp /content/drive/MyDrive/The\\ School\\ of\\ AI/Session\\ 6\\ Assignment/model.py /content\n",
        "# !cp /content/drive/MyDrive/The\\ School\\ of\\ AI/Session\\ 6\\ Assignment/utils.py /content"
      ],
      "metadata": {
        "id": "AeviZ6IOWbrf"
      },
      "execution_count": null,
      "outputs": []
    },
    {
      "cell_type": "code",
      "source": [
        "# import model\n",
        "# import utils\n",
        "# from model import Net\n",
        "# from utils import *"
      ],
      "metadata": {
        "id": "aOg_zdSGcobB"
      },
      "execution_count": null,
      "outputs": []
    },
    {
      "cell_type": "code",
      "source": [
        "# Train data transformations\n",
        "train_transforms = transforms.Compose([\n",
        "    #transforms.RandomApply([transforms.CenterCrop(22), ], p=0.1),\n",
        "    transforms.Resize((28, 28)),\n",
        "    transforms.RandomRotation((-15., 15.), fill=0),\n",
        "    #transforms.RandomAffine(degrees = 0, translate = (0.2, 0.2)), # apply shift\n",
        "    transforms.ToTensor(),\n",
        "    transforms.Normalize((0.1307,), (0.3081,)),\n",
        "    ])\n",
        "\n",
        "# Test data transformations\n",
        "test_transforms = transforms.Compose([\n",
        "    transforms.ToTensor(),\n",
        "    #transforms.Normalize((0.1407,), (0.4081,)) --> This is incorrect line and hence commented\n",
        "    transforms.Normalize((0.1307,), (0.3081,))\n",
        "    ])"
      ],
      "metadata": {
        "id": "9oH9x0ry_cj8"
      },
      "execution_count": null,
      "outputs": []
    },
    {
      "cell_type": "code",
      "source": [
        "train_data = datasets.MNIST('../data', train=True, download=True, transform=train_transforms)\n",
        "#test_data = datasets.MNIST('../data', train=True, download=True, transform=train_transforms) --> Commented the incorrect line. train = False and test_transform needs to be passed\n",
        "test_data = datasets.MNIST('../data', train=False, download=True, transform=test_transforms)"
      ],
      "metadata": {
        "id": "ZqDBxf1-_gun"
      },
      "execution_count": null,
      "outputs": []
    },
    {
      "cell_type": "code",
      "source": [
        "type(train_data), len(train_data), len(train_data[0]), train_data.data.shape, test_data.data.shape"
      ],
      "metadata": {
        "colab": {
          "base_uri": "https://localhost:8080/"
        },
        "id": "yC7eEdPS_vt2",
        "outputId": "c15e3468-3998-48cc-d180-fd0f2559eb31"
      },
      "execution_count": null,
      "outputs": [
        {
          "output_type": "execute_result",
          "data": {
            "text/plain": [
              "(torchvision.datasets.mnist.MNIST,\n",
              " 60000,\n",
              " 2,\n",
              " torch.Size([60000, 28, 28]),\n",
              " torch.Size([10000, 28, 28]))"
            ]
          },
          "metadata": {},
          "execution_count": 7
        }
      ]
    },
    {
      "cell_type": "code",
      "source": [
        "batch_size = 128\n",
        "\n",
        "#kwargs = {'batch_size': batch_size, 'shuffle': False, 'num_workers': 2, 'pin_memory': True} --> Commented the incorrect line. shuffle parameter needs to be True\n",
        "kwargs = {'batch_size': batch_size, 'shuffle': True, 'num_workers': 2, 'pin_memory': True}\n",
        "\n",
        "#test_loader = torch.utils.data.DataLoader(train_data, **kwargs) --> Commented the incorrect line. test_data needs be passed for test_loader\n",
        "test_loader = torch.utils.data.DataLoader(test_data, **kwargs)\n",
        "train_loader = torch.utils.data.DataLoader(train_data, **kwargs)"
      ],
      "metadata": {
        "id": "7NBg3vuq_6_n"
      },
      "execution_count": null,
      "outputs": []
    },
    {
      "cell_type": "code",
      "source": [
        "import matplotlib.pyplot as plt\n",
        "\n",
        "batch_data, batch_label = next(iter(train_loader))\n",
        "\n",
        "fig = plt.figure()\n",
        "\n",
        "for i in range(12):\n",
        "  plt.subplot(3,4,i+1)\n",
        "  plt.tight_layout()\n",
        "  plt.imshow(batch_data[i].squeeze(0), cmap='gray')\n",
        "  plt.title(batch_label[i].item())\n",
        "  plt.xticks([])\n",
        "  plt.yticks([])"
      ],
      "metadata": {
        "colab": {
          "base_uri": "https://localhost:8080/",
          "height": 463
        },
        "id": "NRTaG2Bx__ER",
        "outputId": "54f14874-4b86-4dfb-910b-a1385b4fd271"
      },
      "execution_count": null,
      "outputs": [
        {
          "output_type": "display_data",
          "data": {
            "text/plain": [
              "<Figure size 640x480 with 12 Axes>"
            ],
            "image/png": "[encoded data removed]"
          },
          "metadata": {}
        }
      ]
    },
    {
      "cell_type": "code",
      "source": [
        "from tqdm import tqdm"
      ],
      "metadata": {
        "id": "fp5C7rPgA2sa"
      },
      "execution_count": null,
      "outputs": []
    },
    {
      "cell_type": "code",
      "source": [
        "# Data to plot accuracy and loss graphs\n",
        "train_losses = []\n",
        "test_losses = []\n",
        "train_acc = []\n",
        "test_acc = []\n",
        "\n",
        "test_incorrect_pred = {'images': [], 'ground_truths': [], 'predicted_vals': []}"
      ],
      "metadata": {
        "id": "Bvv7uaWbTBqE"
      },
      "execution_count": null,
      "outputs": []
    },
    {
      "cell_type": "code",
      "source": [
        "device = torch.device(\"cuda:0\" if torch.cuda.is_available() else \"cpu\")\n",
        "device"
      ],
      "metadata": {
        "colab": {
          "base_uri": "https://localhost:8080/"
        },
        "id": "QEOKKZQVBMBe",
        "outputId": "ad9f8d90-6fed-43f1-d1d4-696fc0f5fce1"
      },
      "execution_count": null,
      "outputs": [
        {
          "output_type": "execute_result",
          "data": {
            "text/plain": [
              "device(type='cuda', index=0)"
            ]
          },
          "metadata": {},
          "execution_count": 12
        }
      ]
    },
    {
      "cell_type": "markdown",
      "source": [
        "This was original structure in assignment 6 submission"
      ],
      "metadata": {
        "id": "s1Z0VBy4V7rJ"
      }
    },
    {
      "cell_type": "code",
      "source": [
        "# class Net(nn.Module):\n",
        "#     #This defines the structure of the NN.\n",
        "#     def __init__(self):\n",
        "#         super(Net, self).__init__()\n",
        "#         self.conv1 = nn.Sequential(\n",
        "#             nn.Conv2d(1, 128, 3, padding=1),\n",
        "#             nn.ReLU(),\n",
        "#             nn.BatchNorm2d(128),\n",
        "#             nn.Dropout(0.1)\n",
        "#         ) # 28*28*128\n",
        "\n",
        "#         self.trans1 = nn.Sequential(\n",
        "#             nn.Conv2d(128, 8, 1, padding=1),\n",
        "#             nn.ReLU(),\n",
        "#             nn.BatchNorm2d(8),\n",
        "#             nn.Dropout(0.1)\n",
        "#         ) # 30*30*8\n",
        "\n",
        "#         self.conv2 = nn.Sequential(\n",
        "#             nn.Conv2d(8, 16, 3, padding=1),\n",
        "#             nn.ReLU(),\n",
        "#             nn.BatchNorm2d(16),\n",
        "#             nn.Dropout(0.1),\n",
        "#             nn.MaxPool2d(2, 2)\n",
        "#         ) # 30*30*16 | 15*15*16\n",
        "\n",
        "#         self.conv3 = nn.Sequential(\n",
        "#             nn.Conv2d(16, 16, 3, padding=1),\n",
        "#             nn.ReLU(),\n",
        "#             nn.BatchNorm2d(16),\n",
        "#             nn.Dropout(0.1)\n",
        "#         ) # 15*15*16\n",
        "\n",
        "#         self.conv4 = nn.Sequential(\n",
        "#             nn.Conv2d(16, 32, 3, padding=1),\n",
        "#             nn.ReLU(),\n",
        "#             nn.BatchNorm2d(32),\n",
        "#             nn.Dropout(0.1),\n",
        "#             nn.MaxPool2d(2, 2)\n",
        "#         ) # 15*15*32 | 7*7*32\n",
        "\n",
        "#         self.trans2 = nn.Sequential(\n",
        "#             nn.Conv2d(32, 16, 1, padding=1)\n",
        "#         ) # 9*9*32\n",
        "\n",
        "#         self.conv5 = nn.Sequential(\n",
        "#             nn.Conv2d(16, 16, 3, padding=1),\n",
        "#             nn.ReLU(),\n",
        "#             nn.BatchNorm2d(16),\n",
        "#             nn.Dropout(0.1)\n",
        "#         ) # 9**9*16\n",
        "\n",
        "#         self.conv6 = nn.Sequential(\n",
        "#             nn.Conv2d(16, 32, 3, padding=1), # 1*1\n",
        "#             nn.ReLU(),\n",
        "#             nn.BatchNorm2d(32),\n",
        "#             nn.Dropout(0.1)\n",
        "#         ) # 9*9*32\n",
        "\n",
        "#         self.conv7 = nn.Sequential(\n",
        "#             nn.Conv2d(32, 10, 1, padding=1),\n",
        "#             nn.AvgPool2d(kernel_size=7)\n",
        "#         ) # 11*11*10 | 1*1*10\n",
        "\n",
        "#     def forward(self, x):\n",
        "#       x = self.conv1(x)\n",
        "#       #print(\"size after 1st layer: \" ,x.shape)\n",
        "#       x = self.trans1(x)\n",
        "#       x = self.conv2(x)\n",
        "#       #print(\"size after 2nd layer: \" ,x.shape)\n",
        "#       x = self.conv3(x)\n",
        "#       #print(\"size after 3rd layer: \" ,x.shape)\n",
        "#       x = self.conv4(x)\n",
        "#       x = self.trans2(x)\n",
        "#       x = self.conv5(x)\n",
        "#       x = self.conv6(x)\n",
        "#       x = self.conv7(x)\n",
        "#       #print(\"size after 4th layer: \" ,x.shape)\n",
        "#       x = x.view(x.size(0), -1)\n",
        "#       #print(\"size after flattening: \" ,x.shape)\n",
        "#       x = F.log_softmax(x, dim=1)\n",
        "#       return x"
      ],
      "metadata": {
        "id": "xG2bAeoRS5a1"
      },
      "execution_count": null,
      "outputs": []
    },
    {
      "cell_type": "markdown",
      "source": [
        "Modifed structure below"
      ],
      "metadata": {
        "id": "AvqhdtEjWBqB"
      }
    },
    {
      "cell_type": "code",
      "source": [
        "class Net(nn.Module):\n",
        "    #This defines the structure of the NN.\n",
        "    def __init__(self):\n",
        "        super(Net, self).__init__()\n",
        "        self.conv1 = nn.Sequential(\n",
        "            nn.Conv2d(1, 4, 3, padding=0),\n",
        "            nn.ReLU(),\n",
        "            nn.BatchNorm2d(4),\n",
        "            nn.Dropout(0.1)\n",
        "        ) # 26*26*4\n",
        "\n",
        "        self.conv2 = nn.Sequential(\n",
        "            nn.Conv2d(4, 8, 3, padding=0),\n",
        "            nn.ReLU(),\n",
        "            nn.BatchNorm2d(8),\n",
        "            nn.Dropout(0.1),\n",
        "            nn.MaxPool2d(2, 2)\n",
        "        ) # 24*24*8 | 12*12*8\n",
        "\n",
        "        self.trans1 = nn.Sequential(\n",
        "            nn.Conv2d(8, 8, 1, padding=0),\n",
        "            nn.ReLU(),\n",
        "            nn.BatchNorm2d(8),\n",
        "            nn.Dropout(0.1)\n",
        "        ) # 12*12*8\n",
        "        # increase it back to 16\n",
        "        self.conv3 = nn.Sequential(\n",
        "            nn.Conv2d(8, 16, 3, padding=0),\n",
        "            nn.ReLU(),\n",
        "            nn.BatchNorm2d(16),\n",
        "            nn.Dropout(0.1)\n",
        "            #nn.MaxPool2d(2, 2)\n",
        "        ) # 10*10*16\n",
        "\n",
        "        self.conv4 = nn.Sequential(\n",
        "            nn.Conv2d(16, 32, 3, padding=0),\n",
        "            nn.ReLU(),\n",
        "            nn.BatchNorm2d(32),\n",
        "            nn.Dropout(0.1),\n",
        "            #nn.MaxPool2d(2, 2)\n",
        "        ) # 8*8*16\n",
        "\n",
        "        self.trans2 = nn.Sequential(\n",
        "            nn.Conv2d(32, 8, 1, padding=0) ## bring down to 8\n",
        "        ) # 8*8*8\n",
        "\n",
        "        self.conv5 = nn.Sequential(\n",
        "            nn.Conv2d(8, 8, 3, padding=0), ## take it from 8 to 16\n",
        "            nn.ReLU(),\n",
        "            nn.BatchNorm2d(8),\n",
        "            nn.Dropout(0.1),\n",
        "            #nn.MaxPool2d(2, 2)\n",
        "        ) # 6*6*8\n",
        "\n",
        "        self.conv6 = nn.Sequential(\n",
        "            nn.Conv2d(8, 10, 3, padding=0),\n",
        "            nn.ReLU(),\n",
        "            nn.BatchNorm2d(10),\n",
        "            nn.Dropout(0.1),\n",
        "            #nn.MaxPool2d(2, 2)\n",
        "        ) # 4*4*10\n",
        "\n",
        "        self.conv7 = nn.Sequential(\n",
        "            nn.Conv2d(10, 10, 1, padding=0),\n",
        "            nn.AvgPool2d(kernel_size=4)\n",
        "        ) # 4*4*10 | 1*1*10\n",
        "\n",
        "    def forward(self, x):\n",
        "      x = self.conv1(x)\n",
        "      #print(\"size after 1st layer: \" ,x.shape)\n",
        "      x = self.conv2(x)\n",
        "      x = self.trans1(x)\n",
        "      x = self.conv3(x)\n",
        "      #print(\"size after 2nd layer: \" ,x.shape)\n",
        "      x = self.conv4(x)\n",
        "      x = self.trans2(x)\n",
        "      x = self.conv5(x)\n",
        "      x = self.conv6(x)\n",
        "      x = self.conv7(x)\n",
        "      #print(\"size after 4th layer: \" ,x.shape)\n",
        "      x = x.view(x.size(0), -1)\n",
        "      #print(\"size after flattening: \" ,x.shape)\n",
        "      x = F.log_softmax(x, dim=1)\n",
        "      return x"
      ],
      "metadata": {
        "id": "YIsARWpfWBF-"
      },
      "execution_count": null,
      "outputs": []
    },
    {
      "cell_type": "code",
      "source": [
        "def GetCorrectPredCount(pPrediction, pLabels):\n",
        "  return pPrediction.argmax(dim=1).eq(pLabels).sum().item()"
      ],
      "metadata": {
        "id": "uQwINVyITF44"
      },
      "execution_count": null,
      "outputs": []
    },
    {
      "cell_type": "code",
      "source": [
        "def train(model, device, train_loader, optimizer):\n",
        "  model.train()\n",
        "  pbar = tqdm(train_loader)\n",
        "\n",
        "  train_loss = 0\n",
        "  correct = 0\n",
        "  processed = 0\n",
        "\n",
        "  for batch_idx, (data, target) in enumerate(pbar):\n",
        "    data, target = data.to(device), target.to(device)\n",
        "    optimizer.zero_grad()\n",
        "\n",
        "    # Predict\n",
        "    pred = model(data)\n",
        "\n",
        "    # Calculate loss\n",
        "    loss = F.nll_loss(pred, target)\n",
        "    #loss = criterion(pred, target)\n",
        "    train_loss+=loss.item()\n",
        "\n",
        "    # Backpropagation\n",
        "    loss.backward()\n",
        "    optimizer.step()\n",
        "\n",
        "    correct += GetCorrectPredCount(pred, target)\n",
        "    processed += len(data)\n",
        "\n",
        "    pbar.set_description(desc= f'Train: Loss={loss.item():0.4f} Batch_id={batch_idx} Accuracy={100*correct/processed:0.2f}')\n",
        "\n",
        "  train_acc.append(100*correct/processed)\n",
        "  train_losses.append(train_loss/len(train_loader))\n",
        "  return train_losses, train_acc"
      ],
      "metadata": {
        "id": "MXbhUWgVTKcy"
      },
      "execution_count": null,
      "outputs": []
    },
    {
      "cell_type": "code",
      "source": [
        "def test(model, device, test_loader):\n",
        "    model.eval()\n",
        "\n",
        "    test_loss = 0\n",
        "    correct = 0\n",
        "\n",
        "    with torch.no_grad():\n",
        "        for batch_idx, (data, target) in enumerate(test_loader):\n",
        "            data, target = data.to(device), target.to(device)\n",
        "\n",
        "            output = model(data)\n",
        "            test_loss += F.nll_loss(output, target, reduction='sum').item()  # sum up batch loss\n",
        "            #test_loss += criterion(output, target, reduction='sum').item()  # sum up batch loss\n",
        "            #test_loss += criterion(output, target).item()  # sum up batch loss\n",
        "\n",
        "            correct += GetCorrectPredCount(output, target)\n",
        "\n",
        "\n",
        "    test_loss /= len(test_loader.dataset)\n",
        "    test_acc.append(100. * correct / len(test_loader.dataset))\n",
        "    test_losses.append(test_loss)\n",
        "\n",
        "    print('Test set: Average loss: {:.4f}, Accuracy: {}/{} ({:.2f}%)\\n'.format(\n",
        "        test_loss, correct, len(test_loader.dataset),\n",
        "        100. * correct / len(test_loader.dataset)))\n",
        "    return test_losses, test_acc"
      ],
      "metadata": {
        "id": "dyxmQ8bjTOW2"
      },
      "execution_count": null,
      "outputs": []
    },
    {
      "cell_type": "code",
      "source": [
        "!pip install torchsummary\n",
        "from torchsummary import summary"
      ],
      "metadata": {
        "colab": {
          "base_uri": "https://localhost:8080/"
        },
        "id": "EImjS5DABN2y",
        "outputId": "8eabc94a-31b2-4b46-93c6-f7922d7d6569"
      },
      "execution_count": null,
      "outputs": [
        {
          "output_type": "stream",
          "name": "stdout",
          "text": [
            "Looking in indexes: https://pypi.org/simple, https://us-python.pkg.dev/colab-wheels/public/simple/\n",
            "Requirement already satisfied: torchsummary in /usr/local/lib/python3.10/dist-packages (1.5.1)\n"
          ]
        }
      ]
    },
    {
      "cell_type": "code",
      "source": [
        "model = Net().to(device)\n",
        "summary(model, input_size=(1, 28, 28))"
      ],
      "metadata": {
        "colab": {
          "base_uri": "https://localhost:8080/"
        },
        "id": "OysR5N4PFMDD",
        "outputId": "dd45ef6f-7b7f-49f8-85e7-90606625c330"
      },
      "execution_count": null,
      "outputs": [
        {
          "output_type": "stream",
          "name": "stdout",
          "text": [
            "----------------------------------------------------------------\n",
            "        Layer (type)               Output Shape         Param #\n",
            "================================================================\n",
            "            Conv2d-1            [-1, 4, 26, 26]              40\n",
            "              ReLU-2            [-1, 4, 26, 26]               0\n",
            "       BatchNorm2d-3            [-1, 4, 26, 26]               8\n",
            "           Dropout-4            [-1, 4, 26, 26]               0\n",
            "            Conv2d-5            [-1, 8, 24, 24]             296\n",
            "              ReLU-6            [-1, 8, 24, 24]               0\n",
            "       BatchNorm2d-7            [-1, 8, 24, 24]              16\n",
            "           Dropout-8            [-1, 8, 24, 24]               0\n",
            "         MaxPool2d-9            [-1, 8, 12, 12]               0\n",
            "           Conv2d-10            [-1, 8, 12, 12]              72\n",
            "             ReLU-11            [-1, 8, 12, 12]               0\n",
            "      BatchNorm2d-12            [-1, 8, 12, 12]              16\n",
            "          Dropout-13            [-1, 8, 12, 12]               0\n",
            "           Conv2d-14           [-1, 16, 10, 10]           1,168\n",
            "             ReLU-15           [-1, 16, 10, 10]               0\n",
            "      BatchNorm2d-16           [-1, 16, 10, 10]              32\n",
            "          Dropout-17           [-1, 16, 10, 10]               0\n",
            "           Conv2d-18             [-1, 32, 8, 8]           4,640\n",
            "             ReLU-19             [-1, 32, 8, 8]               0\n",
            "      BatchNorm2d-20             [-1, 32, 8, 8]              64\n",
            "          Dropout-21             [-1, 32, 8, 8]               0\n",
            "           Conv2d-22              [-1, 8, 8, 8]             264\n",
            "           Conv2d-23              [-1, 8, 6, 6]             584\n",
            "             ReLU-24              [-1, 8, 6, 6]               0\n",
            "      BatchNorm2d-25              [-1, 8, 6, 6]              16\n",
            "          Dropout-26              [-1, 8, 6, 6]               0\n",
            "           Conv2d-27             [-1, 10, 4, 4]             730\n",
            "             ReLU-28             [-1, 10, 4, 4]               0\n",
            "      BatchNorm2d-29             [-1, 10, 4, 4]              20\n",
            "          Dropout-30             [-1, 10, 4, 4]               0\n",
            "           Conv2d-31             [-1, 10, 4, 4]             110\n",
            "        AvgPool2d-32             [-1, 10, 1, 1]               0\n",
            "================================================================\n",
            "Total params: 8,076\n",
            "Trainable params: 8,076\n",
            "Non-trainable params: 0\n",
            "----------------------------------------------------------------\n",
            "Input size (MB): 0.00\n",
            "Forward/backward pass size (MB): 0.40\n",
            "Params size (MB): 0.03\n",
            "Estimated Total Size (MB): 0.43\n",
            "----------------------------------------------------------------\n"
          ]
        }
      ]
    },
    {
      "cell_type": "code",
      "source": [
        "import torch.optim.lr_scheduler as lrs"
      ],
      "metadata": {
        "id": "qw_Udk56hjMW"
      },
      "execution_count": null,
      "outputs": []
    },
    {
      "cell_type": "code",
      "source": [
        "model = Net().to(device)\n",
        "\n",
        "#optimizer = optim.SGD(model.parameters(), lr=10.01, momentum=0.9) -- Commented the line since learning rate needs to be corrected\n",
        "optimizer = optim.SGD(model.parameters(), lr=0.01, momentum=0.9)\n",
        "#optimizer = optim.Adam(model.parameters(), lr=0.01)\n",
        "\n",
        "#scheduler = lrs.ReduceLROnPlateau(optimizer, 'min',patience = 3, verbose=True)\n",
        "scheduler = lrs.ReduceLROnPlateau(optimizer, 'max',patience = 1, verbose=True)\n",
        "#scheduler = optim.lr_scheduler.StepLR(optimizer, step_size=6, gamma=0.1, verbose=True)\n",
        "\n",
        "# New Line\n",
        "#criterion = nn.CrossEntropyLoss()\n",
        "num_epochs = 15"
      ],
      "metadata": {
        "id": "jKfENz9wBUUn"
      },
      "execution_count": null,
      "outputs": []
    },
    {
      "cell_type": "code",
      "source": [
        "# train_losses, train_acc = train(model, device, train_loader, optimizer)"
      ],
      "metadata": {
        "id": "FzG-097oBWl5"
      },
      "execution_count": null,
      "outputs": []
    },
    {
      "cell_type": "code",
      "source": [
        "# len(train_losses), len(train_acc), train_losses[0]"
      ],
      "metadata": {
        "id": "zccpOzjCBpZy"
      },
      "execution_count": null,
      "outputs": []
    },
    {
      "cell_type": "code",
      "source": [
        "for epoch in range(1, num_epochs+1):\n",
        "  print(f'Epoch {epoch}')\n",
        "  train_losses, train_acc = train(model, device, train_loader, optimizer)\n",
        "\n",
        "  #test(model, device, train_loader) --> Removed this incorrect line. test_loader needs to be passed here\n",
        "  test_losses, test_acc = test(model, device, test_loader)\n",
        "\n",
        "  scheduler.step(test_acc[epoch-1])\n",
        "  my_lr = optimizer.param_groups[0]['lr']\n",
        "\n",
        "  print(f'Test accuracy {test_acc[epoch-1]}')\n",
        "  print(f'Learning Rate {my_lr}')"
      ],
      "metadata": {
        "colab": {
          "base_uri": "https://localhost:8080/"
        },
        "id": "NhHIzJYwNo8h",
        "outputId": "8110480c-4b3b-49e1-d803-af93a835d4e9"
      },
      "execution_count": null,
      "outputs": [
        {
          "output_type": "stream",
          "name": "stdout",
          "text": [
            "Epoch 1\n"
          ]
        },
        {
          "output_type": "stream",
          "name": "stderr",
          "text": [
            "Train: Loss=0.2506 Batch_id=468 Accuracy=83.92: 100%|██████████| 469/469 [00:33<00:00, 13.99it/s]\n"
          ]
        },
        {
          "output_type": "stream",
          "name": "stdout",
          "text": [
            "Test set: Average loss: 0.0984, Accuracy: 9731/10000 (97.31%)\n",
            "\n",
            "Test accuracy 97.31\n",
            "Learning Rate 0.01\n",
            "Epoch 2\n"
          ]
        },
        {
          "output_type": "stream",
          "name": "stderr",
          "text": [
            "Train: Loss=0.1515 Batch_id=468 Accuracy=95.48: 100%|██████████| 469/469 [00:23<00:00, 19.59it/s]\n"
          ]
        },
        {
          "output_type": "stream",
          "name": "stdout",
          "text": [
            "Test set: Average loss: 0.0839, Accuracy: 9751/10000 (97.51%)\n",
            "\n",
            "Test accuracy 97.51\n",
            "Learning Rate 0.01\n",
            "Epoch 3\n"
          ]
        },
        {
          "output_type": "stream",
          "name": "stderr",
          "text": [
            "Train: Loss=0.0557 Batch_id=468 Accuracy=96.52: 100%|██████████| 469/469 [00:25<00:00, 18.72it/s]\n"
          ]
        },
        {
          "output_type": "stream",
          "name": "stdout",
          "text": [
            "Test set: Average loss: 0.0556, Accuracy: 9831/10000 (98.31%)\n",
            "\n",
            "Test accuracy 98.31\n",
            "Learning Rate 0.01\n",
            "Epoch 4\n"
          ]
        },
        {
          "output_type": "stream",
          "name": "stderr",
          "text": [
            "Train: Loss=0.0714 Batch_id=468 Accuracy=97.00: 100%|██████████| 469/469 [00:24<00:00, 18.88it/s]\n"
          ]
        },
        {
          "output_type": "stream",
          "name": "stdout",
          "text": [
            "Test set: Average loss: 0.0715, Accuracy: 9778/10000 (97.78%)\n",
            "\n",
            "Test accuracy 97.78\n",
            "Learning Rate 0.01\n",
            "Epoch 5\n"
          ]
        },
        {
          "output_type": "stream",
          "name": "stderr",
          "text": [
            "Train: Loss=0.0800 Batch_id=468 Accuracy=97.31: 100%|██████████| 469/469 [00:26<00:00, 17.72it/s]\n"
          ]
        },
        {
          "output_type": "stream",
          "name": "stdout",
          "text": [
            "Test set: Average loss: 0.0444, Accuracy: 9872/10000 (98.72%)\n",
            "\n",
            "Test accuracy 98.72\n",
            "Learning Rate 0.01\n",
            "Epoch 6\n"
          ]
        },
        {
          "output_type": "stream",
          "name": "stderr",
          "text": [
            "Train: Loss=0.0853 Batch_id=468 Accuracy=97.45: 100%|██████████| 469/469 [00:25<00:00, 18.73it/s]\n"
          ]
        },
        {
          "output_type": "stream",
          "name": "stdout",
          "text": [
            "Test set: Average loss: 0.0331, Accuracy: 9895/10000 (98.95%)\n",
            "\n",
            "Test accuracy 98.95\n",
            "Learning Rate 0.01\n",
            "Epoch 7\n"
          ]
        },
        {
          "output_type": "stream",
          "name": "stderr",
          "text": [
            "Train: Loss=0.0600 Batch_id=468 Accuracy=97.64: 100%|██████████| 469/469 [00:24<00:00, 18.83it/s]\n"
          ]
        },
        {
          "output_type": "stream",
          "name": "stdout",
          "text": [
            "Test set: Average loss: 0.0337, Accuracy: 9891/10000 (98.91%)\n",
            "\n",
            "Test accuracy 98.91\n",
            "Learning Rate 0.01\n",
            "Epoch 8\n"
          ]
        },
        {
          "output_type": "stream",
          "name": "stderr",
          "text": [
            "Train: Loss=0.0303 Batch_id=468 Accuracy=97.78: 100%|██████████| 469/469 [00:24<00:00, 19.53it/s]\n"
          ]
        },
        {
          "output_type": "stream",
          "name": "stdout",
          "text": [
            "Test set: Average loss: 0.0370, Accuracy: 9881/10000 (98.81%)\n",
            "\n",
            "Epoch 00008: reducing learning rate of group 0 to 1.0000e-03.\n",
            "Test accuracy 98.81\n",
            "Learning Rate 0.001\n",
            "Epoch 9\n"
          ]
        },
        {
          "output_type": "stream",
          "name": "stderr",
          "text": [
            "Train: Loss=0.0672 Batch_id=468 Accuracy=98.05: 100%|██████████| 469/469 [00:23<00:00, 20.28it/s]\n"
          ]
        },
        {
          "output_type": "stream",
          "name": "stdout",
          "text": [
            "Test set: Average loss: 0.0310, Accuracy: 9902/10000 (99.02%)\n",
            "\n",
            "Test accuracy 99.02\n",
            "Learning Rate 0.001\n",
            "Epoch 10\n"
          ]
        },
        {
          "output_type": "stream",
          "name": "stderr",
          "text": [
            "Train: Loss=0.0332 Batch_id=468 Accuracy=98.08: 100%|██████████| 469/469 [00:23<00:00, 19.74it/s]\n"
          ]
        },
        {
          "output_type": "stream",
          "name": "stdout",
          "text": [
            "Test set: Average loss: 0.0287, Accuracy: 9908/10000 (99.08%)\n",
            "\n",
            "Test accuracy 99.08\n",
            "Learning Rate 0.001\n",
            "Epoch 11\n"
          ]
        },
        {
          "output_type": "stream",
          "name": "stderr",
          "text": [
            "Train: Loss=0.0493 Batch_id=468 Accuracy=98.10: 100%|██████████| 469/469 [00:24<00:00, 19.08it/s]\n"
          ]
        },
        {
          "output_type": "stream",
          "name": "stdout",
          "text": [
            "Test set: Average loss: 0.0286, Accuracy: 9912/10000 (99.12%)\n",
            "\n",
            "Test accuracy 99.12\n",
            "Learning Rate 0.001\n",
            "Epoch 12\n"
          ]
        },
        {
          "output_type": "stream",
          "name": "stderr",
          "text": [
            "Train: Loss=0.0380 Batch_id=468 Accuracy=98.19: 100%|██████████| 469/469 [00:24<00:00, 18.87it/s]\n"
          ]
        },
        {
          "output_type": "stream",
          "name": "stdout",
          "text": [
            "Test set: Average loss: 0.0268, Accuracy: 9909/10000 (99.09%)\n",
            "\n",
            "Test accuracy 99.09\n",
            "Learning Rate 0.001\n",
            "Epoch 13\n"
          ]
        },
        {
          "output_type": "stream",
          "name": "stderr",
          "text": [
            "Train: Loss=0.0838 Batch_id=468 Accuracy=98.19: 100%|██████████| 469/469 [00:24<00:00, 18.96it/s]\n"
          ]
        },
        {
          "output_type": "stream",
          "name": "stdout",
          "text": [
            "Test set: Average loss: 0.0272, Accuracy: 9907/10000 (99.07%)\n",
            "\n",
            "Epoch 00013: reducing learning rate of group 0 to 1.0000e-04.\n",
            "Test accuracy 99.07\n",
            "Learning Rate 0.0001\n",
            "Epoch 14\n"
          ]
        },
        {
          "output_type": "stream",
          "name": "stderr",
          "text": [
            "Train: Loss=0.0780 Batch_id=468 Accuracy=98.17: 100%|██████████| 469/469 [00:25<00:00, 18.73it/s]\n"
          ]
        },
        {
          "output_type": "stream",
          "name": "stdout",
          "text": [
            "Test set: Average loss: 0.0276, Accuracy: 9906/10000 (99.06%)\n",
            "\n",
            "Test accuracy 99.06\n",
            "Learning Rate 0.0001\n",
            "Epoch 15\n"
          ]
        },
        {
          "output_type": "stream",
          "name": "stderr",
          "text": [
            "Train: Loss=0.0156 Batch_id=468 Accuracy=98.19: 100%|██████████| 469/469 [00:23<00:00, 19.82it/s]\n"
          ]
        },
        {
          "output_type": "stream",
          "name": "stdout",
          "text": [
            "Test set: Average loss: 0.0279, Accuracy: 9907/10000 (99.07%)\n",
            "\n",
            "Epoch 00015: reducing learning rate of group 0 to 1.0000e-05.\n",
            "Test accuracy 99.07\n",
            "Learning Rate 1e-05\n"
          ]
        }
      ]
    },
    {
      "cell_type": "code",
      "source": [
        "import matplotlib.pyplot as plt"
      ],
      "metadata": {
        "id": "a9SMtOpBTVfh"
      },
      "execution_count": null,
      "outputs": []
    },
    {
      "cell_type": "code",
      "source": [
        "fig, axs = plt.subplots(2,2,figsize=(15,10))\n",
        "axs[0, 0].plot(train_losses)\n",
        "axs[0, 0].set_title(\"Training Loss\")\n",
        "axs[1, 0].plot(train_acc)\n",
        "axs[1, 0].set_title(\"Training Accuracy\")\n",
        "axs[0, 1].plot(test_losses)\n",
        "axs[0, 1].set_title(\"Test Loss\")\n",
        "axs[1, 1].plot(test_acc)\n",
        "axs[1, 1].set_title(\"Test Accuracy\")"
      ],
      "metadata": {
        "colab": {
          "base_uri": "https://localhost:8080/",
          "height": 870
        },
        "id": "J1uh7ChKTczQ",
        "outputId": "124059ab-e34b-4b1f-8179-bdbb1b141744"
      },
      "execution_count": null,
      "outputs": [
        {
          "output_type": "execute_result",
          "data": {
            "text/plain": [
              "Text(0.5, 1.0, 'Test Accuracy')"
            ]
          },
          "metadata": {},
          "execution_count": 26
        },
        {
          "output_type": "display_data",
          "data": {
            "text/plain": [
              "<Figure size 1500x1000 with 4 Axes>"
            ],
            "image/png": "[encoded data removed]"
          },
          "metadata": {}
        }
      ]
    },
    {
      "cell_type": "code",
      "source": [
        "# printTrainTest_LossAcc(train_losses,train_acc,test_losses,test_acc)"
      ],
      "metadata": {
        "id": "WvJrAPDRBlhJ"
      },
      "execution_count": null,
      "outputs": []
    }
  ]
}