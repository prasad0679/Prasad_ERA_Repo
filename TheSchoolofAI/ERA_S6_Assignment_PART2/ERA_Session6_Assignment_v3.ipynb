{
  "nbformat": 4,
  "nbformat_minor": 0,
  "metadata": {
    "colab": {
      "provenance": [],
      "gpuType": "T4"
    },
    "kernelspec": {
      "name": "python3",
      "display_name": "Python 3"
    },
    "accelerator": "GPU"
  },
  "cells": [
    {
      "cell_type": "code",
      "source": [
        "from google.colab import drive\n",
        "drive.mount('/content/drive')"
      ],
      "metadata": {
        "colab": {
          "base_uri": "https://localhost:8080/"
        },
        "id": "LuJZttvN9yev",
        "outputId": "b6be2111-f096-44d0-c4a0-184244e0da22"
      },
      "execution_count": 1,
      "outputs": [
        {
          "output_type": "stream",
          "name": "stdout",
          "text": [
            "Drive already mounted at /content/drive; to attempt to forcibly remount, call drive.mount(\"/content/drive\", force_remount=True).\n"
          ]
        }
      ]
    },
    {
      "cell_type": "code",
      "metadata": {
        "id": "0m2JWFliFfKT"
      },
      "source": [
        "from __future__ import print_function\n",
        "import torch\n",
        "import torch.nn as nn\n",
        "import torch.nn.functional as F\n",
        "import torch.optim as optim\n",
        "from torchvision import datasets, transforms"
      ],
      "execution_count": 2,
      "outputs": []
    },
    {
      "cell_type": "code",
      "source": [
        "# Train data transformations\n",
        "train_transforms = transforms.Compose([\n",
        "    transforms.RandomApply([transforms.CenterCrop(22), ], p=0.1),\n",
        "    transforms.Resize((28, 28)),\n",
        "    transforms.RandomRotation((-15., 15.), fill=0),\n",
        "    transforms.ToTensor(),\n",
        "    transforms.Normalize((0.1307,), (0.3081,)),\n",
        "    ])\n",
        "\n",
        "# Test data transformations\n",
        "test_transforms = transforms.Compose([\n",
        "    transforms.ToTensor(),\n",
        "    #transforms.Normalize((0.1407,), (0.4081,)) --> This is incorrect line and hence commented\n",
        "    transforms.Normalize((0.1307,), (0.3081,))\n",
        "    ])"
      ],
      "metadata": {
        "id": "9oH9x0ry_cj8"
      },
      "execution_count": 3,
      "outputs": []
    },
    {
      "cell_type": "markdown",
      "source": [
        "See how to get separate validations dataset"
      ],
      "metadata": {
        "id": "96G1a4wR_w6i"
      }
    },
    {
      "cell_type": "code",
      "source": [
        "train_data = datasets.MNIST('../data', train=True, download=True, transform=train_transforms)\n",
        "#test_data = datasets.MNIST('../data', train=True, download=True, transform=train_transforms) --> Commented the incorrect line. train = False and test_transform needs to be passed\n",
        "test_data = datasets.MNIST('../data', train=False, download=True, transform=test_transforms)"
      ],
      "metadata": {
        "id": "ZqDBxf1-_gun"
      },
      "execution_count": 4,
      "outputs": []
    },
    {
      "cell_type": "code",
      "source": [
        "type(train_data), len(train_data), len(train_data[0]), train_data.data.shape, test_data.data.shape"
      ],
      "metadata": {
        "colab": {
          "base_uri": "https://localhost:8080/"
        },
        "id": "yC7eEdPS_vt2",
        "outputId": "c5e2cf97-d2d7-40eb-b508-020144c28e04"
      },
      "execution_count": 5,
      "outputs": [
        {
          "output_type": "execute_result",
          "data": {
            "text/plain": [
              "(torchvision.datasets.mnist.MNIST,\n",
              " 60000,\n",
              " 2,\n",
              " torch.Size([60000, 28, 28]),\n",
              " torch.Size([10000, 28, 28]))"
            ]
          },
          "metadata": {},
          "execution_count": 5
        }
      ]
    },
    {
      "cell_type": "code",
      "source": [
        "batch_size = 128\n",
        "\n",
        "#kwargs = {'batch_size': batch_size, 'shuffle': False, 'num_workers': 2, 'pin_memory': True} --> Commented the incorrect line. shuffle parameter needs to be True\n",
        "kwargs = {'batch_size': batch_size, 'shuffle': True, 'num_workers': 2, 'pin_memory': True}\n",
        "\n",
        "#test_loader = torch.utils.data.DataLoader(train_data, **kwargs) --> Commented the incorrect line. test_data needs be passed for test_loader\n",
        "test_loader = torch.utils.data.DataLoader(test_data, **kwargs)\n",
        "train_loader = torch.utils.data.DataLoader(train_data, **kwargs)"
      ],
      "metadata": {
        "id": "7NBg3vuq_6_n"
      },
      "execution_count": 6,
      "outputs": []
    },
    {
      "cell_type": "code",
      "source": [
        "import matplotlib.pyplot as plt\n",
        "\n",
        "batch_data, batch_label = next(iter(train_loader)) \n",
        "\n",
        "fig = plt.figure()\n",
        "\n",
        "for i in range(12):\n",
        "  plt.subplot(3,4,i+1)\n",
        "  plt.tight_layout()\n",
        "  plt.imshow(batch_data[i].squeeze(0), cmap='gray')\n",
        "  plt.title(batch_label[i].item())\n",
        "  plt.xticks([])\n",
        "  plt.yticks([])"
      ],
      "metadata": {
        "colab": {
          "base_uri": "https://localhost:8080/",
          "height": 463
        },
        "id": "NRTaG2Bx__ER",
        "outputId": "81b78738-2f42-4144-b0e4-bd0525209157"
      },
      "execution_count": 7,
      "outputs": [
        {
          "output_type": "display_data",
          "data": {
            "text/plain": [
              "<Figure size 640x480 with 12 Axes>"
            ],
            "image/png": "[encoded data removed]"
          },
          "metadata": {}
        }
      ]
    },
    {
      "cell_type": "code",
      "source": [
        "class Net(nn.Module):\n",
        "    #This defines the structure of the NN.\n",
        "    def __init__(self):\n",
        "        super(Net, self).__init__()\n",
        "        self.conv1 = nn.Sequential(\n",
        "            nn.Conv2d(1, 128, 3, padding=1), \n",
        "            nn.ReLU(),\n",
        "            nn.BatchNorm2d(128),\n",
        "            # nn.Conv2d(32, 32, 3, padding=1),\n",
        "            # nn.ReLU(),\n",
        "            # nn.BatchNorm2d(32),\n",
        "            # nn.Conv2d(32, 32, 3, stride=2, padding=1),\n",
        "            # nn.ReLU(),\n",
        "            # nn.BatchNorm2d(32),\n",
        "            # nn.MaxPool2d(2, 2),\n",
        "            nn.Dropout(0.1)\n",
        "        ) # 26*26*16\n",
        "        \n",
        "        self.trans1 = nn.Sequential(\n",
        "            nn.Conv2d(128, 8, 1, padding=1),\n",
        "            nn.ReLU(),\n",
        "            nn.BatchNorm2d(8),\n",
        "            # nn.Conv2d(64, 64, 3, padding=1),\n",
        "            # nn.ReLU(),\n",
        "            # nn.BatchNorm2d(64),\n",
        "            # nn.Conv2d(64, 64, 3, stride=2, padding=1),\n",
        "            # nn.ReLU(),\n",
        "            # nn.BatchNorm2d(64),\n",
        "            #nn.MaxPool2d(2, 2),\n",
        "            nn.Dropout(0.1)\n",
        "        ) # 24*24*32 | 12*12*32\n",
        "\n",
        "        self.conv2 = nn.Sequential(\n",
        "            nn.Conv2d(8, 16, 3, padding=1),\n",
        "            nn.ReLU(),\n",
        "            nn.BatchNorm2d(16),\n",
        "            # nn.Conv2d(64, 64, 3, padding=1),\n",
        "            # nn.ReLU(),\n",
        "            # nn.BatchNorm2d(64),\n",
        "            # nn.Conv2d(64, 64, 3, stride=2, padding=1),\n",
        "            # nn.ReLU(),\n",
        "            # nn.BatchNorm2d(64),\n",
        "            nn.Dropout(0.1),\n",
        "            nn.MaxPool2d(2, 2)            \n",
        "        ) # 24*24*32 | 12*12*32\n",
        "        \n",
        "        self.conv3 = nn.Sequential(\n",
        "            nn.Conv2d(16, 16, 3, padding=1), # 1*1 convolution\n",
        "            nn.ReLU(),\n",
        "            nn.BatchNorm2d(16),\n",
        "            #nn.MaxPool2d(2, 2),\n",
        "            nn.Dropout(0.1)\n",
        "        ) # 10*10*32 | 5*5*32\n",
        "\n",
        "        self.conv4 = nn.Sequential(\n",
        "            nn.Conv2d(16, 32, 3, padding=1), # 1*1\n",
        "            nn.ReLU(),\n",
        "            nn.BatchNorm2d(32),\n",
        "            nn.Dropout(0.1),\n",
        "            nn.MaxPool2d(2, 2)            \n",
        "        ) # 5*5*32\n",
        "\n",
        "        self.trans2 = nn.Sequential(\n",
        "            nn.Conv2d(32, 16, 1, padding=1)\n",
        "            #nn.ReLU(),\n",
        "            #nn.BatchNorm2d(4),\n",
        "            # nn.Conv2d(64, 64, 3, padding=1),\n",
        "            # nn.ReLU(),\n",
        "            # nn.BatchNorm2d(64),\n",
        "            # nn.Conv2d(64, 64, 3, stride=2, padding=1),\n",
        "            # nn.ReLU(),\n",
        "            # nn.BatchNorm2d(64),\n",
        "            #nn.MaxPool2d(2, 2),\n",
        "            #nn.Dropout(0.1)\n",
        "        )\n",
        "\n",
        "        self.conv5 = nn.Sequential(\n",
        "            nn.Conv2d(16, 16, 3, padding=1), # 1*1\n",
        "            nn.ReLU(),\n",
        "            nn.BatchNorm2d(16),\n",
        "            nn.Dropout(0.1)\n",
        "            #nn.MaxPool2d(2, 2)            \n",
        "        )\n",
        "\n",
        "        self.conv6 = nn.Sequential(\n",
        "            nn.Conv2d(16, 32, 3, padding=1), # 1*1\n",
        "            nn.ReLU(),\n",
        "            nn.BatchNorm2d(32),\n",
        "            nn.Dropout(0.1)\n",
        "            #nn.MaxPool2d(2, 2)            \n",
        "        )\n",
        "\n",
        "        self.conv7 = nn.Sequential(\n",
        "            nn.Conv2d(32, 10, 1, padding=1), # 1*1\n",
        "            #nn.ReLU(),\n",
        "            #nn.BatchNorm2d(32),\n",
        "            #nn.Dropout(0.1)\n",
        "            nn.AvgPool2d(kernel_size=7)            \n",
        "        )\n",
        "\n",
        "        # self.fc1 = nn.Sequential(\n",
        "        #     nn.Linear(800, 10)\n",
        "        # )\n",
        "\n",
        "        # self.fc2 = nn.Sequential(\n",
        "        #     nn.Linear(50, 10)\n",
        "        # )\n",
        "\n",
        "        #to be checked\n",
        "        #self.GovalAvgPooling = nn.AdaptiveAvgPool1d(10)\n",
        "\n",
        "        # self.conv1 = nn.Conv2d(1, 32, kernel_size=3) # 26*26*32\n",
        "        # self.conv2 = nn.Conv2d(32, 64, kernel_size=3) # 24*24*64 | 12*12*64\n",
        "        # self.conv3 = nn.Conv2d(64, 128, kernel_size=3) # 10*10*128\n",
        "        # self.conv4 = nn.Conv2d(128, 256, kernel_size=3) # 8*8*256 | 4*4*256\n",
        "        # #self.fc1 = nn.Linear(320, 50) --> This is incorrect shape hence commented.\n",
        "        # self.fc1 = nn.Linear(4096, 50)\n",
        "        # self.fc2 = nn.Linear(50, 10)\n",
        "\n",
        "    def forward(self, x):\n",
        "      x = self.conv1(x)\n",
        "      #print(\"size after 1st layer: \" ,x.shape)\n",
        "      x = self.trans1(x)\n",
        "      x = self.conv2(x)\n",
        "      #print(\"size after 2nd layer: \" ,x.shape)\n",
        "      x = self.conv3(x)\n",
        "      #print(\"size after 3rd layer: \" ,x.shape)\n",
        "      x = self.conv4(x)\n",
        "      x = self.trans2(x)\n",
        "      x = self.conv5(x)\n",
        "      x = self.conv6(x)\n",
        "      x = self.conv7(x)\n",
        "      #print(\"size after 4th layer: \" ,x.shape)\n",
        "        \n",
        "      x = x.view(x.size(0), -1)\n",
        "      #print(\"size after flattening: \" ,x.shape)\n",
        "      #x = self.fc1(x)\n",
        "      #x = self.fc2(x)\n",
        "      x = F.log_softmax(x, dim=1)\n",
        "      return x\n",
        "        # x = F.relu(self.conv1(x),2)\n",
        "        # #print(\"size after 1st layer: \" ,x.shape)\n",
        "        # x = F.relu(F.max_pool2d(self.conv2(x), 2))\n",
        "        # #print(\"size after 2nd layer and max pooling: \" ,x.shape)\n",
        "        # x = F.relu(self.conv3(x), 2)\n",
        "        # #print(\"size after 3rd layer: \" ,x.shape)\n",
        "        # x = F.relu(F.max_pool2d(self.conv4(x), 2)) \n",
        "        # #print(\"size after 4th layer and max pooling: \" ,x.shape)\n",
        "        # #x = x.view(-1, 320)\n",
        "        # x = x.view(-1, 4096)\n",
        "        # x = F.relu(self.fc1(x))\n",
        "        # x = self.fc2(x)\n",
        "        # return F.log_softmax(x, dim=1)"
      ],
      "metadata": {
        "id": "2ZVH5hTZCkMC"
      },
      "execution_count": 8,
      "outputs": []
    },
    {
      "cell_type": "code",
      "source": [
        "from tqdm import tqdm"
      ],
      "metadata": {
        "id": "fp5C7rPgA2sa"
      },
      "execution_count": 9,
      "outputs": []
    },
    {
      "cell_type": "code",
      "source": [
        "# Data to plot accuracy and loss graphs\n",
        "train_losses = []\n",
        "test_losses = []\n",
        "train_acc = []\n",
        "test_acc = []\n",
        "\n",
        "test_incorrect_pred = {'images': [], 'ground_truths': [], 'predicted_vals': []}"
      ],
      "metadata": {
        "id": "zLcZHiz_A6KQ"
      },
      "execution_count": 10,
      "outputs": []
    },
    {
      "cell_type": "code",
      "source": [
        "def GetCorrectPredCount(pPrediction, pLabels):\n",
        "  return pPrediction.argmax(dim=1).eq(pLabels).sum().item()"
      ],
      "metadata": {
        "id": "rmiNkD0ZA9tl"
      },
      "execution_count": 11,
      "outputs": []
    },
    {
      "cell_type": "code",
      "source": [
        "def train(model, device, train_loader, optimizer, criterion):\n",
        "  model.train()\n",
        "  pbar = tqdm(train_loader)\n",
        "\n",
        "  train_loss = 0\n",
        "  correct = 0\n",
        "  processed = 0\n",
        "\n",
        "  for batch_idx, (data, target) in enumerate(pbar):\n",
        "    data, target = data.to(device), target.to(device)\n",
        "    optimizer.zero_grad()\n",
        "\n",
        "    # Predict\n",
        "    pred = model(data)\n",
        "\n",
        "    # Calculate loss\n",
        "    loss = F.nll_loss(pred, target)\n",
        "    #loss = criterion(pred, target)\n",
        "    train_loss+=loss.item()\n",
        "\n",
        "    # Backpropagation\n",
        "    loss.backward()\n",
        "    optimizer.step()\n",
        "    \n",
        "    correct += GetCorrectPredCount(pred, target)\n",
        "    processed += len(data)\n",
        "\n",
        "    pbar.set_description(desc= f'Train: Loss={loss.item():0.4f} Batch_id={batch_idx} Accuracy={100*correct/processed:0.2f}')\n",
        "\n",
        "  train_acc.append(100*correct/processed)\n",
        "  train_losses.append(train_loss/len(train_loader))"
      ],
      "metadata": {
        "id": "veTpEFPzA_Z8"
      },
      "execution_count": 12,
      "outputs": []
    },
    {
      "cell_type": "code",
      "source": [
        "def test(model, device, test_loader,criterion):\n",
        "    model.eval()\n",
        "\n",
        "    test_loss = 0\n",
        "    correct = 0\n",
        "\n",
        "    with torch.no_grad():\n",
        "        for batch_idx, (data, target) in enumerate(test_loader):\n",
        "            data, target = data.to(device), target.to(device)\n",
        "\n",
        "            output = model(data)\n",
        "            test_loss += F.nll_loss(output, target, reduction='sum').item()  # sum up batch loss\n",
        "            #test_loss += criterion(output, target, reduction='sum').item()  # sum up batch loss\n",
        "            #test_loss += criterion(output, target).item()  # sum up batch loss\n",
        "\n",
        "            correct += GetCorrectPredCount(output, target)\n",
        "\n",
        "\n",
        "    test_loss /= len(test_loader.dataset)\n",
        "    test_acc.append(100. * correct / len(test_loader.dataset))\n",
        "    test_losses.append(test_loss)\n",
        "\n",
        "    print('Test set: Average loss: {:.4f}, Accuracy: {}/{} ({:.2f}%)\\n'.format(\n",
        "        test_loss, correct, len(test_loader.dataset),\n",
        "        100. * correct / len(test_loader.dataset)))"
      ],
      "metadata": {
        "id": "e4gHGdFSBD_C"
      },
      "execution_count": 13,
      "outputs": []
    },
    {
      "cell_type": "code",
      "source": [
        "device = torch.device(\"cuda:0\" if torch.cuda.is_available() else \"cpu\")\n",
        "device"
      ],
      "metadata": {
        "colab": {
          "base_uri": "https://localhost:8080/"
        },
        "id": "QEOKKZQVBMBe",
        "outputId": "1d82561a-331a-4cf6-8999-ab4f76697208"
      },
      "execution_count": 14,
      "outputs": [
        {
          "output_type": "execute_result",
          "data": {
            "text/plain": [
              "device(type='cuda', index=0)"
            ]
          },
          "metadata": {},
          "execution_count": 14
        }
      ]
    },
    {
      "cell_type": "code",
      "source": [
        "!pip install torchsummary\n",
        "from torchsummary import summary"
      ],
      "metadata": {
        "colab": {
          "base_uri": "https://localhost:8080/"
        },
        "id": "EImjS5DABN2y",
        "outputId": "0ea5a05a-1ac1-47a4-f426-22917d22458c"
      },
      "execution_count": 15,
      "outputs": [
        {
          "output_type": "stream",
          "name": "stdout",
          "text": [
            "Looking in indexes: https://pypi.org/simple, https://us-python.pkg.dev/colab-wheels/public/simple/\n",
            "Requirement already satisfied: torchsummary in /usr/local/lib/python3.10/dist-packages (1.5.1)\n"
          ]
        }
      ]
    },
    {
      "cell_type": "code",
      "source": [
        "model = Net().to(device)\n",
        "summary(model, input_size=(1, 28, 28))"
      ],
      "metadata": {
        "colab": {
          "base_uri": "https://localhost:8080/"
        },
        "id": "OysR5N4PFMDD",
        "outputId": "52ebdb0a-afaf-4951-a5dd-d477a577f141"
      },
      "execution_count": 16,
      "outputs": [
        {
          "output_type": "stream",
          "name": "stdout",
          "text": [
            "----------------------------------------------------------------\n",
            "        Layer (type)               Output Shape         Param #\n",
            "================================================================\n",
            "            Conv2d-1          [-1, 128, 28, 28]           1,280\n",
            "              ReLU-2          [-1, 128, 28, 28]               0\n",
            "       BatchNorm2d-3          [-1, 128, 28, 28]             256\n",
            "           Dropout-4          [-1, 128, 28, 28]               0\n",
            "            Conv2d-5            [-1, 8, 30, 30]           1,032\n",
            "              ReLU-6            [-1, 8, 30, 30]               0\n",
            "       BatchNorm2d-7            [-1, 8, 30, 30]              16\n",
            "           Dropout-8            [-1, 8, 30, 30]               0\n",
            "            Conv2d-9           [-1, 16, 30, 30]           1,168\n",
            "             ReLU-10           [-1, 16, 30, 30]               0\n",
            "      BatchNorm2d-11           [-1, 16, 30, 30]              32\n",
            "          Dropout-12           [-1, 16, 30, 30]               0\n",
            "        MaxPool2d-13           [-1, 16, 15, 15]               0\n",
            "           Conv2d-14           [-1, 16, 15, 15]           2,320\n",
            "             ReLU-15           [-1, 16, 15, 15]               0\n",
            "      BatchNorm2d-16           [-1, 16, 15, 15]              32\n",
            "          Dropout-17           [-1, 16, 15, 15]               0\n",
            "           Conv2d-18           [-1, 32, 15, 15]           4,640\n",
            "             ReLU-19           [-1, 32, 15, 15]               0\n",
            "      BatchNorm2d-20           [-1, 32, 15, 15]              64\n",
            "          Dropout-21           [-1, 32, 15, 15]               0\n",
            "        MaxPool2d-22             [-1, 32, 7, 7]               0\n",
            "           Conv2d-23             [-1, 16, 9, 9]             528\n",
            "           Conv2d-24             [-1, 16, 9, 9]           2,320\n",
            "             ReLU-25             [-1, 16, 9, 9]               0\n",
            "      BatchNorm2d-26             [-1, 16, 9, 9]              32\n",
            "          Dropout-27             [-1, 16, 9, 9]               0\n",
            "           Conv2d-28             [-1, 32, 9, 9]           4,640\n",
            "             ReLU-29             [-1, 32, 9, 9]               0\n",
            "      BatchNorm2d-30             [-1, 32, 9, 9]              64\n",
            "          Dropout-31             [-1, 32, 9, 9]               0\n",
            "           Conv2d-32           [-1, 10, 11, 11]             330\n",
            "        AvgPool2d-33             [-1, 10, 1, 1]               0\n",
            "================================================================\n",
            "Total params: 18,754\n",
            "Trainable params: 18,754\n",
            "Non-trainable params: 0\n",
            "----------------------------------------------------------------\n",
            "Input size (MB): 0.00\n",
            "Forward/backward pass size (MB): 4.23\n",
            "Params size (MB): 0.07\n",
            "Estimated Total Size (MB): 4.30\n",
            "----------------------------------------------------------------\n"
          ]
        }
      ]
    },
    {
      "cell_type": "code",
      "source": [
        "model = Net().to(device)\n",
        "#optimizer = optim.SGD(model.parameters(), lr=10.01, momentum=0.9) -- Commented the line since learning rate needs to be corrected\n",
        "optimizer = optim.SGD(model.parameters(), lr=0.01, momentum=0.9)\n",
        "scheduler = optim.lr_scheduler.StepLR(optimizer, step_size=15, gamma=0.1, verbose=True)\n",
        "# New Line\n",
        "criterion = nn.CrossEntropyLoss()\n",
        "num_epochs = 20\n",
        "\n",
        "for epoch in range(1, num_epochs+1):\n",
        "  print(f'Epoch {epoch}')\n",
        "  train(model, device, train_loader, optimizer, criterion)\n",
        "  #test(model, device, train_loader) --> Removed this incorrect line. test_loader needs to be passed here\n",
        "  test(model, device, test_loader, criterion)\n",
        "  scheduler.step()"
      ],
      "metadata": {
        "colab": {
          "base_uri": "https://localhost:8080/"
        },
        "id": "NhHIzJYwNo8h",
        "outputId": "e056bda9-ab25-4856-d94d-73c357d1f171"
      },
      "execution_count": 17,
      "outputs": [
        {
          "output_type": "stream",
          "name": "stdout",
          "text": [
            "Adjusting learning rate of group 0 to 1.0000e-02.\n",
            "Epoch 1\n"
          ]
        },
        {
          "output_type": "stream",
          "name": "stderr",
          "text": [
            "Train: Loss=0.2389 Batch_id=468 Accuracy=81.62: 100%|██████████| 469/469 [00:39<00:00, 11.92it/s]\n"
          ]
        },
        {
          "output_type": "stream",
          "name": "stdout",
          "text": [
            "Test set: Average loss: 0.1163, Accuracy: 9704/10000 (97.04%)\n",
            "\n",
            "Adjusting learning rate of group 0 to 1.0000e-02.\n",
            "Epoch 2\n"
          ]
        },
        {
          "output_type": "stream",
          "name": "stderr",
          "text": [
            "Train: Loss=0.0471 Batch_id=468 Accuracy=96.51: 100%|██████████| 469/469 [00:28<00:00, 16.33it/s]\n"
          ]
        },
        {
          "output_type": "stream",
          "name": "stdout",
          "text": [
            "Test set: Average loss: 0.0754, Accuracy: 9786/10000 (97.86%)\n",
            "\n",
            "Adjusting learning rate of group 0 to 1.0000e-02.\n",
            "Epoch 3\n"
          ]
        },
        {
          "output_type": "stream",
          "name": "stderr",
          "text": [
            "Train: Loss=0.0212 Batch_id=468 Accuracy=97.36: 100%|██████████| 469/469 [00:28<00:00, 16.48it/s]\n"
          ]
        },
        {
          "output_type": "stream",
          "name": "stdout",
          "text": [
            "Test set: Average loss: 0.0445, Accuracy: 9870/10000 (98.70%)\n",
            "\n",
            "Adjusting learning rate of group 0 to 1.0000e-02.\n",
            "Epoch 4\n"
          ]
        },
        {
          "output_type": "stream",
          "name": "stderr",
          "text": [
            "Train: Loss=0.0512 Batch_id=468 Accuracy=97.86: 100%|██████████| 469/469 [00:30<00:00, 15.56it/s]\n"
          ]
        },
        {
          "output_type": "stream",
          "name": "stdout",
          "text": [
            "Test set: Average loss: 0.0401, Accuracy: 9888/10000 (98.88%)\n",
            "\n",
            "Adjusting learning rate of group 0 to 1.0000e-02.\n",
            "Epoch 5\n"
          ]
        },
        {
          "output_type": "stream",
          "name": "stderr",
          "text": [
            "Train: Loss=0.0374 Batch_id=468 Accuracy=98.07: 100%|██████████| 469/469 [00:30<00:00, 15.46it/s]\n"
          ]
        },
        {
          "output_type": "stream",
          "name": "stdout",
          "text": [
            "Test set: Average loss: 0.0289, Accuracy: 9913/10000 (99.13%)\n",
            "\n",
            "Adjusting learning rate of group 0 to 1.0000e-02.\n",
            "Epoch 6\n"
          ]
        },
        {
          "output_type": "stream",
          "name": "stderr",
          "text": [
            "Train: Loss=0.0505 Batch_id=468 Accuracy=98.29: 100%|██████████| 469/469 [00:28<00:00, 16.29it/s]\n"
          ]
        },
        {
          "output_type": "stream",
          "name": "stdout",
          "text": [
            "Test set: Average loss: 0.0327, Accuracy: 9910/10000 (99.10%)\n",
            "\n",
            "Adjusting learning rate of group 0 to 1.0000e-02.\n",
            "Epoch 7\n"
          ]
        },
        {
          "output_type": "stream",
          "name": "stderr",
          "text": [
            "Train: Loss=0.0571 Batch_id=468 Accuracy=98.42: 100%|██████████| 469/469 [00:28<00:00, 16.24it/s]\n"
          ]
        },
        {
          "output_type": "stream",
          "name": "stdout",
          "text": [
            "Test set: Average loss: 0.0295, Accuracy: 9912/10000 (99.12%)\n",
            "\n",
            "Adjusting learning rate of group 0 to 1.0000e-02.\n",
            "Epoch 8\n"
          ]
        },
        {
          "output_type": "stream",
          "name": "stderr",
          "text": [
            "Train: Loss=0.0406 Batch_id=468 Accuracy=98.40: 100%|██████████| 469/469 [00:28<00:00, 16.43it/s]\n"
          ]
        },
        {
          "output_type": "stream",
          "name": "stdout",
          "text": [
            "Test set: Average loss: 0.0289, Accuracy: 9922/10000 (99.22%)\n",
            "\n",
            "Adjusting learning rate of group 0 to 1.0000e-02.\n",
            "Epoch 9\n"
          ]
        },
        {
          "output_type": "stream",
          "name": "stderr",
          "text": [
            "Train: Loss=0.0964 Batch_id=468 Accuracy=98.50: 100%|██████████| 469/469 [00:28<00:00, 16.35it/s]\n"
          ]
        },
        {
          "output_type": "stream",
          "name": "stdout",
          "text": [
            "Test set: Average loss: 0.0256, Accuracy: 9928/10000 (99.28%)\n",
            "\n",
            "Adjusting learning rate of group 0 to 1.0000e-02.\n",
            "Epoch 10\n"
          ]
        },
        {
          "output_type": "stream",
          "name": "stderr",
          "text": [
            "Train: Loss=0.0175 Batch_id=468 Accuracy=98.56: 100%|██████████| 469/469 [00:30<00:00, 15.44it/s]\n"
          ]
        },
        {
          "output_type": "stream",
          "name": "stdout",
          "text": [
            "Test set: Average loss: 0.0253, Accuracy: 9926/10000 (99.26%)\n",
            "\n",
            "Adjusting learning rate of group 0 to 1.0000e-02.\n",
            "Epoch 11\n"
          ]
        },
        {
          "output_type": "stream",
          "name": "stderr",
          "text": [
            "Train: Loss=0.0337 Batch_id=468 Accuracy=98.67: 100%|██████████| 469/469 [00:27<00:00, 16.83it/s]\n"
          ]
        },
        {
          "output_type": "stream",
          "name": "stdout",
          "text": [
            "Test set: Average loss: 0.0235, Accuracy: 9928/10000 (99.28%)\n",
            "\n",
            "Adjusting learning rate of group 0 to 1.0000e-02.\n",
            "Epoch 12\n"
          ]
        },
        {
          "output_type": "stream",
          "name": "stderr",
          "text": [
            "Train: Loss=0.0672 Batch_id=468 Accuracy=98.64: 100%|██████████| 469/469 [00:28<00:00, 16.42it/s]\n"
          ]
        },
        {
          "output_type": "stream",
          "name": "stdout",
          "text": [
            "Test set: Average loss: 0.0229, Accuracy: 9929/10000 (99.29%)\n",
            "\n",
            "Adjusting learning rate of group 0 to 1.0000e-02.\n",
            "Epoch 13\n"
          ]
        },
        {
          "output_type": "stream",
          "name": "stderr",
          "text": [
            "Train: Loss=0.0298 Batch_id=468 Accuracy=98.75: 100%|██████████| 469/469 [00:28<00:00, 16.40it/s]\n"
          ]
        },
        {
          "output_type": "stream",
          "name": "stdout",
          "text": [
            "Test set: Average loss: 0.0228, Accuracy: 9930/10000 (99.30%)\n",
            "\n",
            "Adjusting learning rate of group 0 to 1.0000e-02.\n",
            "Epoch 14\n"
          ]
        },
        {
          "output_type": "stream",
          "name": "stderr",
          "text": [
            "Train: Loss=0.0259 Batch_id=468 Accuracy=98.75: 100%|██████████| 469/469 [00:28<00:00, 16.46it/s]\n"
          ]
        },
        {
          "output_type": "stream",
          "name": "stdout",
          "text": [
            "Test set: Average loss: 0.0233, Accuracy: 9929/10000 (99.29%)\n",
            "\n",
            "Adjusting learning rate of group 0 to 1.0000e-02.\n",
            "Epoch 15\n"
          ]
        },
        {
          "output_type": "stream",
          "name": "stderr",
          "text": [
            "Train: Loss=0.0305 Batch_id=468 Accuracy=98.77: 100%|██████████| 469/469 [00:30<00:00, 15.28it/s]\n"
          ]
        },
        {
          "output_type": "stream",
          "name": "stdout",
          "text": [
            "Test set: Average loss: 0.0246, Accuracy: 9932/10000 (99.32%)\n",
            "\n",
            "Adjusting learning rate of group 0 to 1.0000e-03.\n",
            "Epoch 16\n"
          ]
        },
        {
          "output_type": "stream",
          "name": "stderr",
          "text": [
            "Train: Loss=0.0749 Batch_id=468 Accuracy=98.93: 100%|██████████| 469/469 [00:28<00:00, 16.22it/s]\n"
          ]
        },
        {
          "output_type": "stream",
          "name": "stdout",
          "text": [
            "Test set: Average loss: 0.0186, Accuracy: 9945/10000 (99.45%)\n",
            "\n",
            "Adjusting learning rate of group 0 to 1.0000e-03.\n",
            "Epoch 17\n"
          ]
        },
        {
          "output_type": "stream",
          "name": "stderr",
          "text": [
            "Train: Loss=0.0200 Batch_id=468 Accuracy=99.02: 100%|██████████| 469/469 [00:28<00:00, 16.31it/s]\n"
          ]
        },
        {
          "output_type": "stream",
          "name": "stdout",
          "text": [
            "Test set: Average loss: 0.0182, Accuracy: 9947/10000 (99.47%)\n",
            "\n",
            "Adjusting learning rate of group 0 to 1.0000e-03.\n",
            "Epoch 18\n"
          ]
        },
        {
          "output_type": "stream",
          "name": "stderr",
          "text": [
            "Train: Loss=0.0370 Batch_id=468 Accuracy=99.05: 100%|██████████| 469/469 [00:28<00:00, 16.42it/s]\n"
          ]
        },
        {
          "output_type": "stream",
          "name": "stdout",
          "text": [
            "Test set: Average loss: 0.0175, Accuracy: 9950/10000 (99.50%)\n",
            "\n",
            "Adjusting learning rate of group 0 to 1.0000e-03.\n",
            "Epoch 19\n"
          ]
        },
        {
          "output_type": "stream",
          "name": "stderr",
          "text": [
            "Train: Loss=0.0988 Batch_id=468 Accuracy=99.05: 100%|██████████| 469/469 [00:28<00:00, 16.37it/s]\n"
          ]
        },
        {
          "output_type": "stream",
          "name": "stdout",
          "text": [
            "Test set: Average loss: 0.0186, Accuracy: 9948/10000 (99.48%)\n",
            "\n",
            "Adjusting learning rate of group 0 to 1.0000e-03.\n",
            "Epoch 20\n"
          ]
        },
        {
          "output_type": "stream",
          "name": "stderr",
          "text": [
            "Train: Loss=0.0185 Batch_id=468 Accuracy=99.08: 100%|██████████| 469/469 [00:30<00:00, 15.43it/s]\n"
          ]
        },
        {
          "output_type": "stream",
          "name": "stdout",
          "text": [
            "Test set: Average loss: 0.0176, Accuracy: 9950/10000 (99.50%)\n",
            "\n",
            "Adjusting learning rate of group 0 to 1.0000e-03.\n"
          ]
        }
      ]
    },
    {
      "cell_type": "code",
      "source": [
        "import matplotlib.pyplot as plt"
      ],
      "metadata": {
        "id": "AVzKKECqBr-7"
      },
      "execution_count": 18,
      "outputs": []
    },
    {
      "cell_type": "code",
      "source": [
        "fig, axs = plt.subplots(2,2,figsize=(15,10))\n",
        "axs[0, 0].plot(train_losses)\n",
        "axs[0, 0].set_title(\"Training Loss\")\n",
        "axs[1, 0].plot(train_acc)\n",
        "axs[1, 0].set_title(\"Training Accuracy\")\n",
        "axs[0, 1].plot(test_losses)\n",
        "axs[0, 1].set_title(\"Test Loss\")\n",
        "axs[1, 1].plot(test_acc)\n",
        "axs[1, 1].set_title(\"Test Accuracy\")"
      ],
      "metadata": {
        "colab": {
          "base_uri": "https://localhost:8080/",
          "height": 870
        },
        "id": "WvJrAPDRBlhJ",
        "outputId": "d89d891f-8c9d-4285-ef6d-4159db0863b6"
      },
      "execution_count": 19,
      "outputs": [
        {
          "output_type": "execute_result",
          "data": {
            "text/plain": [
              "Text(0.5, 1.0, 'Test Accuracy')"
            ]
          },
          "metadata": {},
          "execution_count": 19
        },
        {
          "output_type": "display_data",
          "data": {
            "text/plain": [
              "<Figure size 1500x1000 with 4 Axes>"
            ],
            "image/png": "[encoded data removed]"
          },
          "metadata": {}
        }
      ]
    }
  ]
}